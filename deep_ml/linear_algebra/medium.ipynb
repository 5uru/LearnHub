{
 "cells": [
  {
   "cell_type": "code",
   "id": "initial_id",
   "metadata": {
    "collapsed": true,
    "ExecuteTime": {
     "end_time": "2024-11-24T15:51:57.579509Z",
     "start_time": "2024-11-24T15:51:57.252507Z"
    }
   },
   "source": [
    "import jax.numpy as jnp\n",
    "import jax\n",
    "from jax import lax\n",
    "from jax import Array"
   ],
   "outputs": [],
   "execution_count": 1
  },
  {
   "metadata": {
    "ExecuteTime": {
     "end_time": "2024-11-24T17:03:40.237558Z",
     "start_time": "2024-11-24T17:03:40.226347Z"
    }
   },
   "cell_type": "code",
   "source": [
    "# Calculate Eigenvalues of a Matrix\n",
    "\n",
    "def calculate_eigenvalues(matrix: Array) -> Array:\n",
    "    det = matrix[0, 0] * matrix[1, 1] - matrix[0, 1] * matrix[1, 0]\n",
    "    trace = matrix[0, 0] + matrix[1, 1]\n",
    "    discriminant = jnp.sqrt(trace ** 2 - 4 * det)\n",
    "    lambda1 = (trace + discriminant) / 2\n",
    "    lambda2 = (trace - discriminant) / 2\n",
    "    return jnp.array([lambda1, lambda2])"
   ],
   "id": "86489dc6916e2b6a",
   "outputs": [],
   "execution_count": 2
  },
  {
   "metadata": {
    "ExecuteTime": {
     "end_time": "2024-11-24T17:03:58.491138Z",
     "start_time": "2024-11-24T17:03:58.057666Z"
    }
   },
   "cell_type": "code",
   "source": [
    "# Test the function\n",
    "matrix = jnp.array([[2, 1], [1, 2]])\n",
    "calculate_eigenvalues(matrix)"
   ],
   "id": "4f282ebd503b32c4",
   "outputs": [
    {
     "data": {
      "text/plain": [
       "Array([3., 1.], dtype=float32)"
      ]
     },
     "execution_count": 3,
     "metadata": {},
     "output_type": "execute_result"
    }
   ],
   "execution_count": 3
  },
  {
   "metadata": {
    "ExecuteTime": {
     "end_time": "2024-11-24T17:11:42.547073Z",
     "start_time": "2024-11-24T17:11:42.536650Z"
    }
   },
   "cell_type": "code",
   "source": [
    "# Matrix Transformation\n",
    "def transform_matrix(A: Array, T: Array, S: Array) -> Array:\n",
    "    if jnp.linalg.det(T) == 0 or jnp.linalg.det(S) == 0:\n",
    "        return jnp.array([-1])\n",
    "    T_inv = jnp.linalg.inv(T)\n",
    "    return jnp.dot(jnp.dot(T_inv, A), S)"
   ],
   "id": "7652b7ea66aa8bc8",
   "outputs": [],
   "execution_count": 6
  },
  {
   "metadata": {
    "ExecuteTime": {
     "end_time": "2024-11-24T17:11:44.142065Z",
     "start_time": "2024-11-24T17:11:43.718060Z"
    }
   },
   "cell_type": "code",
   "source": [
    "# Test the function\n",
    "A = jnp.array([[1, 2], [3, 4]])\n",
    "T = jnp.array([[2, 0], [0, 2]])\n",
    "S = jnp.array([[1, 1], [0, 1]])\n",
    "transform_matrix(A, T, S)"
   ],
   "id": "4252de5542a6ba52",
   "outputs": [
    {
     "data": {
      "text/plain": [
       "Array([[0.5, 1.5],\n",
       "       [1.5, 3.5]], dtype=float32)"
      ]
     },
     "execution_count": 7,
     "metadata": {},
     "output_type": "execute_result"
    }
   ],
   "execution_count": 7
  },
  {
   "metadata": {
    "ExecuteTime": {
     "end_time": "2024-11-24T17:13:58.559535Z",
     "start_time": "2024-11-24T17:13:58.542629Z"
    }
   },
   "cell_type": "code",
   "source": [
    "# Calculate 2x2 Matrix Inverse \n",
    "def inverse_2x2(matrix: Array) -> Array:\n",
    "    det = matrix[0, 0] * matrix[1, 1] - matrix[0, 1] * matrix[1, 0]\n",
    "    if det == 0:\n",
    "        return jnp.array([-1])\n",
    "    A_inv = (jnp.array([[matrix[1, 1], -matrix[0, 1]], [-matrix[1, 0], matrix[0, 0]]])) / det\n",
    "    return A_inv"
   ],
   "id": "2d53c598aaa355af",
   "outputs": [],
   "execution_count": 8
  },
  {
   "metadata": {
    "ExecuteTime": {
     "end_time": "2024-11-24T17:14:13.158895Z",
     "start_time": "2024-11-24T17:14:13.084585Z"
    }
   },
   "cell_type": "code",
   "source": [
    "# Test the function\n",
    "matrix = jnp.array([[4, 7], [2, 6]])\n",
    "inverse_2x2(matrix)"
   ],
   "id": "4b7d000c7282c59f",
   "outputs": [
    {
     "data": {
      "text/plain": [
       "Array([[ 0.6, -0.7],\n",
       "       [-0.2,  0.4]], dtype=float32)"
      ]
     },
     "execution_count": 9,
     "metadata": {},
     "output_type": "execute_result"
    }
   ],
   "execution_count": 9
  },
  {
   "metadata": {
    "ExecuteTime": {
     "end_time": "2024-11-24T17:17:07.979730Z",
     "start_time": "2024-11-24T17:17:07.974736Z"
    }
   },
   "cell_type": "code",
   "source": [
    "# Matrix times Matrix\n",
    "def matrix_times_matrix(A: Array, B: Array) -> Array:\n",
    "    if A.shape[1] != B.shape[0]:\n",
    "        return jnp.array([-1])\n",
    "    C = jnp.zeros([A.shape[0], B.shape[1]], dtype=A.dtype)\n",
    "    for i in range(A.shape[0]):\n",
    "        for j in range(B.shape[1]):\n",
    "            C = C.at[i, j].set(jnp.dot(A[i, :], B[:, j]))\n",
    "    return C"
   ],
   "id": "103549a3a23794b",
   "outputs": [],
   "execution_count": 12
  },
  {
   "metadata": {
    "ExecuteTime": {
     "end_time": "2024-11-24T17:17:08.404089Z",
     "start_time": "2024-11-24T17:17:08.373032Z"
    }
   },
   "cell_type": "code",
   "source": [
    "# Test the function matrix_times_matrix \n",
    "A = jnp.array([[1,2],\n",
    "               [2,4]])\n",
    "B = jnp.array([[2,1],\n",
    "               [3,4]])\n",
    "matrix_times_matrix(A, B)"
   ],
   "id": "2d9f0a24ed9f5a6",
   "outputs": [
    {
     "data": {
      "text/plain": [
       "Array([[ 8,  9],\n",
       "       [16, 18]], dtype=int32)"
      ]
     },
     "execution_count": 13,
     "metadata": {},
     "output_type": "execute_result"
    }
   ],
   "execution_count": 13
  },
  {
   "metadata": {
    "ExecuteTime": {
     "end_time": "2024-11-24T17:18:22.237159Z",
     "start_time": "2024-11-24T17:18:22.207932Z"
    }
   },
   "cell_type": "code",
   "source": [
    "# Test the function matrix_times_matrix \n",
    "A = jnp.array([[1,2],\n",
    "               [2,4]])\n",
    "B = jnp.array([[2,1],\n",
    "               [3,4],\n",
    "               [4,5]])\n",
    "matrix_times_matrix(A, B)"
   ],
   "id": "3afbfcbbd3103aaf",
   "outputs": [
    {
     "data": {
      "text/plain": [
       "Array([-1], dtype=int32)"
      ]
     },
     "execution_count": 14,
     "metadata": {},
     "output_type": "execute_result"
    }
   ],
   "execution_count": 14
  },
  {
   "metadata": {
    "ExecuteTime": {
     "end_time": "2024-11-24T17:35:31.331485Z",
     "start_time": "2024-11-24T17:35:31.326825Z"
    }
   },
   "cell_type": "code",
   "source": [
    "# Calculate Covariance Matrix\n",
    "def calculate_covariance_matrix(X: Array) -> Array:\n",
    "    n_samples, n_features = X.shape\n",
    "    mean = jnp.mean(X, axis=0)\n",
    "    covariance_matrix = jnp.zeros([n_features, n_features])\n",
    "    for i in range(n_features):\n",
    "        for j in range(i, n_features):\n",
    "            covariance = sum((X[i][k] - mean[i]) * (X[j][k] - mean[j]) for k in range(n_features)) / (n_features - 1)\n",
    "            covariance_matrix = covariance_matrix.at[i, j].set(covariance)\n",
    "            covariance_matrix = covariance_matrix.at[j, i].set(covariance)\n",
    "    return covariance_matrix\n",
    "            \n",
    "                              "
   ],
   "id": "82214da7943a6152",
   "outputs": [],
   "execution_count": 31
  },
  {
   "metadata": {
    "ExecuteTime": {
     "end_time": "2024-11-24T17:35:31.881419Z",
     "start_time": "2024-11-24T17:35:31.865213Z"
    }
   },
   "cell_type": "code",
   "source": [
    "# Test the function calculate_covariance_matrix\n",
    "X = jnp.array([[1, 2, 3], [4, 5, 6]])\n",
    "calculate_covariance_matrix(X)"
   ],
   "id": "1e023f8b2c768884",
   "outputs": [
    {
     "name": "stdout",
     "output_type": "stream",
     "text": [
      "[2.5 3.5 4.5]\n",
      "1.375\n",
      "-0.125\n",
      "0.625\n",
      "4.375\n",
      "2.125\n",
      "1.375\n"
     ]
    },
    {
     "data": {
      "text/plain": [
       "Array([[ 1.375, -0.125,  0.625],\n",
       "       [-0.125,  4.375,  2.125],\n",
       "       [ 0.625,  2.125,  1.375]], dtype=float32)"
      ]
     },
     "execution_count": 32,
     "metadata": {},
     "output_type": "execute_result"
    }
   ],
   "execution_count": 32
  },
  {
   "metadata": {},
   "cell_type": "code",
   "outputs": [],
   "execution_count": null,
   "source": [
    "# Calculate Correlation Matrix\n",
    "def calculate_correlation_matrix(X: Array) -> Array:\n",
    "    n = X.shape[0]\n",
    "    X_mean = jnp.mean(X, axis=0)\n",
    "    X_centered = X - X_mean\n",
    "    covariance_matrix = jnp.dot(X_centered.T, X_centered) / n\n",
    "    correlation_matrix = covariance_matrix / jnp.sqrt(jnp.dot(jnp.diag(covariance_matrix), jnp.diag(covariance_matrix).T))\n",
    "    return correlation_matrix"
   ],
   "id": "a771bbbc478a79df"
  }
 ],
 "metadata": {
  "kernelspec": {
   "display_name": "Python 3",
   "language": "python",
   "name": "python3"
  },
  "language_info": {
   "codemirror_mode": {
    "name": "ipython",
    "version": 2
   },
   "file_extension": ".py",
   "mimetype": "text/x-python",
   "name": "python",
   "nbconvert_exporter": "python",
   "pygments_lexer": "ipython2",
   "version": "2.7.6"
  }
 },
 "nbformat": 4,
 "nbformat_minor": 5
}
