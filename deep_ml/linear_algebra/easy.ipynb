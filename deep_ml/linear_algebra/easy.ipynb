{
 "cells": [
  {
   "cell_type": "code",
   "id": "initial_id",
   "metadata": {
    "collapsed": true,
    "ExecuteTime": {
     "end_time": "2024-11-24T07:52:06.157001Z",
     "start_time": "2024-11-24T07:52:05.737454Z"
    }
   },
   "source": [
    "import jax.numpy as jnp\n",
    "import jax\n",
    "from jax import lax\n",
    "from jax import Array"
   ],
   "outputs": [],
   "execution_count": 1
  },
  {
   "metadata": {},
   "cell_type": "code",
   "outputs": [],
   "execution_count": null,
   "source": "",
   "id": "9876d17a7c46c327"
  },
  {
   "metadata": {
    "ExecuteTime": {
     "end_time": "2024-11-24T07:52:42.270314Z",
     "start_time": "2024-11-24T07:52:42.262864Z"
    }
   },
   "cell_type": "code",
   "source": [
    "# Matrix times vector\n",
    "def multiply(a: Array, b: Array) -> Array:\n",
    "    def body_fun(i, c):\n",
    "        return lax.fori_loop(0, a.shape[1], lambda j, c: c.at[i].add(a[i, j] * b[j]), c)\n",
    "\n",
    "    c = jnp.zeros(a.shape[0], dtype=a.dtype)\n",
    "    c = lax.fori_loop(0, a.shape[0], body_fun, c)\n",
    "    return c\n",
    "\n",
    "def matrix_dot_vector(a: Array, b: Array) -> Array:\n",
    "    error_value = jnp.full(a.shape[0], -1, dtype=a.dtype)\n",
    "\n",
    "    c = lax.cond(\n",
    "            jnp.equal(a.shape[1], b.shape[0]),\n",
    "            lambda: multiply(a, b),\n",
    "            lambda: error_value\n",
    "    )\n",
    "    return c"
   ],
   "id": "d487b1f66d99e926",
   "outputs": [],
   "execution_count": 2
  },
  {
   "metadata": {
    "ExecuteTime": {
     "end_time": "2024-11-24T07:53:09.331234Z",
     "start_time": "2024-11-24T07:53:09.283464Z"
    }
   },
   "cell_type": "code",
   "source": [
    "# Test matrix_dot_vector\n",
    "a = jnp.array([[1,2],[2,4]])\n",
    "b = jnp.array([1,2])\n",
    "print(matrix_dot_vector(a,b))"
   ],
   "id": "3bf566edc39a4bcd",
   "outputs": [
    {
     "name": "stdout",
     "output_type": "stream",
     "text": [
      "[ 5 10]\n"
     ]
    }
   ],
   "execution_count": 5
  },
  {
   "metadata": {
    "ExecuteTime": {
     "end_time": "2024-11-24T07:53:18.940362Z",
     "start_time": "2024-11-24T07:53:18.937428Z"
    }
   },
   "cell_type": "code",
   "source": [
    "# Transpose a matrix  \n",
    "def transpose_matrix(a: Array) -> Array:\n",
    "    def body_fun(i, b):\n",
    "        return lax.fori_loop(0, a.shape[1], lambda j, b : b.at[j,i].set(a[i,j]), b)\n",
    "    b = jnp.zeros([a.shape[1], a.shape[0]], dtype=a.dtype)\n",
    "    b = lax.fori_loop(0, a.shape[0], body_fun, b)\n",
    "    return b"
   ],
   "id": "cf36218ff38792",
   "outputs": [],
   "execution_count": 6
  },
  {
   "metadata": {
    "ExecuteTime": {
     "end_time": "2024-11-24T07:53:19.903786Z",
     "start_time": "2024-11-24T07:53:19.841569Z"
    }
   },
   "cell_type": "code",
   "source": [
    "# Test transpose_matrix\n",
    "a = jnp.array([[1,2,3],[4,5,6]])\n",
    "print(transpose_matrix(a))"
   ],
   "id": "388e562611f5abb2",
   "outputs": [
    {
     "name": "stdout",
     "output_type": "stream",
     "text": [
      "[[1 4]\n",
      " [2 5]\n",
      " [3 6]]\n"
     ]
    }
   ],
   "execution_count": 7
  },
  {
   "metadata": {
    "ExecuteTime": {
     "end_time": "2024-11-24T11:29:10.742715Z",
     "start_time": "2024-11-24T11:29:10.732032Z"
    }
   },
   "cell_type": "code",
   "source": [
    "# Reshape Matrix\n",
    "def reshape_matrix(a:Array, shape: tuple) -> Array:\n",
    "    \"\"\"Reshapes a matrix into a new shape\"\"\"\n",
    "    if jnp.prod(jnp.array(a.shape)) != jnp.prod(jnp.array(shape)):\n",
    "        return jnp.full(shape, -1, dtype=a.dtype)\n",
    "    temp_matrix = jnp.zeros(jnp.prod(jnp.array(a.shape)), dtype=a.dtype)\n",
    "    index = 0\n",
    "    for i in range(a.shape[0]):\n",
    "        for j in range(a.shape[1]):\n",
    "            temp_matrix = temp_matrix.at[index].set(a[i][j])\n",
    "            index += 1\n",
    "    reshaped_matrix = jnp.zeros(shape, dtype=a.dtype) \n",
    "    for i in range(shape[0]):\n",
    "        for j in range(shape[1]):\n",
    "            reshaped_matrix = reshaped_matrix.at[i,j].set(temp_matrix[i*shape[1] + j])\n",
    "    return reshaped_matrix\n"
   ],
   "id": "7d5ec7355a98335a",
   "outputs": [],
   "execution_count": 51
  },
  {
   "metadata": {
    "ExecuteTime": {
     "end_time": "2024-11-24T11:29:11.906797Z",
     "start_time": "2024-11-24T11:29:11.881335Z"
    }
   },
   "cell_type": "code",
   "source": [
    "# Test reshape_matrix\n",
    "a = jnp.array([[1,2,3,4],[5,6,7,8]])\n",
    "print(reshape_matrix(a, (4,2)))"
   ],
   "id": "3720197af21f3321",
   "outputs": [
    {
     "name": "stdout",
     "output_type": "stream",
     "text": [
      "[[1 2]\n",
      " [3 4]\n",
      " [5 6]\n",
      " [7 8]]\n"
     ]
    }
   ],
   "execution_count": 52
  },
  {
   "metadata": {
    "ExecuteTime": {
     "end_time": "2024-11-24T11:36:34.429129Z",
     "start_time": "2024-11-24T11:36:34.423773Z"
    }
   },
   "cell_type": "code",
   "source": [
    "# Calculate Mean by Row or Column \n",
    "def calculate_matrix_mean(matrix: Array, mode: str) -> Array:\n",
    "    \"\"\"Calculates the mean of a matrix by row or column\"\"\"\n",
    "    if mode == \"row\":\n",
    "        mean = jnp.zeros(matrix.shape[0], dtype=jnp.float32)\n",
    "        for i in range(matrix.shape[0]):\n",
    "            mean = mean.at[i].set(jnp.mean(matrix[i]))\n",
    "        return mean\n",
    "    elif mode == \"column\":\n",
    "        mean = jnp.zeros(matrix.shape[1], dtype=jnp.float32)\n",
    "        for i in range(matrix.shape[1]):\n",
    "            mean = mean.at[i].set(jnp.mean(matrix[:,i]))\n",
    "        return mean\n",
    "    else:\n",
    "        return jnp.array([-1])\n",
    "            \n",
    "        \n",
    "        "
   ],
   "id": "85b6fdcbd3988d43",
   "outputs": [],
   "execution_count": 57
  },
  {
   "metadata": {
    "ExecuteTime": {
     "end_time": "2024-11-24T11:36:35.002195Z",
     "start_time": "2024-11-24T11:36:34.994033Z"
    }
   },
   "cell_type": "code",
   "source": [
    "# Test calculate_matrix_mean\n",
    "a = jnp.array([[1, 2, 3], [4, 5, 6], [7, 8, 9]])\n",
    "print(calculate_matrix_mean(a, \"row\"))\n",
    "print(calculate_matrix_mean(a, \"column\"))"
   ],
   "id": "8dfcb7a7a282c45a",
   "outputs": [
    {
     "name": "stdout",
     "output_type": "stream",
     "text": [
      "[2. 5. 8.]\n",
      "[4. 5. 6.]\n"
     ]
    }
   ],
   "execution_count": 58
  },
  {
   "metadata": {
    "ExecuteTime": {
     "end_time": "2024-11-24T11:41:17.064658Z",
     "start_time": "2024-11-24T11:41:17.059114Z"
    }
   },
   "cell_type": "code",
   "source": [
    "# Scalar Multiplication of a Matrix\n",
    "def scalar_multiply(matrix: Array, scalar: int | float) -> Array:\n",
    "    \"\"\"Multiplies a matrix by a scalar\"\"\"\n",
    "    for i in range(matrix.shape[0]):\n",
    "        for j in range(matrix.shape[1]):\n",
    "            matrix = matrix.at[i,j].set(matrix[i,j] * scalar)\n",
    "    return matrix"
   ],
   "id": "b9a89648ec959989",
   "outputs": [],
   "execution_count": 61
  },
  {
   "metadata": {
    "ExecuteTime": {
     "end_time": "2024-11-24T11:41:17.584436Z",
     "start_time": "2024-11-24T11:41:17.539203Z"
    }
   },
   "cell_type": "code",
   "source": [
    "# Test scalar_multiply\n",
    "a = jnp.array([[1,2,3],[4,5,6]])\n",
    "print(scalar_multiply(a, 2))"
   ],
   "id": "8e55ee964978b00f",
   "outputs": [
    {
     "name": "stdout",
     "output_type": "stream",
     "text": [
      "[[ 2  4  6]\n",
      " [ 8 10 12]]\n"
     ]
    }
   ],
   "execution_count": 62
  },
  {
   "metadata": {
    "ExecuteTime": {
     "end_time": "2024-11-24T12:45:33.199834Z",
     "start_time": "2024-11-24T12:45:33.195785Z"
    }
   },
   "cell_type": "code",
   "source": [
    "# Transformation Matrix from Basis B to C\n",
    "def transform_basis(matrix: Array, basis: Array) -> Array:\n",
    "    \"\"\"Transforms a matrix from basis B to basis C\"\"\"\n",
    "    matrix_inv = jnp.linalg.inv(matrix)\n",
    "  \n",
    "    return  jnp.dot(matrix_inv, basis)"
   ],
   "id": "f8afa911490bee37",
   "outputs": [],
   "execution_count": 65
  },
  {
   "metadata": {
    "ExecuteTime": {
     "end_time": "2024-11-24T12:45:33.731746Z",
     "start_time": "2024-11-24T12:45:33.712953Z"
    }
   },
   "cell_type": "code",
   "source": [
    "# Test transform_basis\n",
    "b = jnp.array([[1, 0, 0],\n",
    "               [0, 1, 0],\n",
    "               [0, 0, 1]])\n",
    "a = jnp.array([[1, 2.3, 3],\n",
    "               [4.4, 25, 6],\n",
    "               [7.4, 8, 9]])\n",
    "print(transform_basis(a, b))"
   ],
   "id": "ec4beb104a01a289",
   "outputs": [
    {
     "name": "stdout",
     "output_type": "stream",
     "text": [
      "[[-0.6772268  -0.01262626  0.23415977]\n",
      " [-0.01836547  0.05050505 -0.02754821]\n",
      " [ 0.5731558  -0.03451178 -0.05693296]]\n"
     ]
    }
   ],
   "execution_count": 66
  },
  {
   "metadata": {
    "ExecuteTime": {
     "end_time": "2024-11-24T12:52:03.788601Z",
     "start_time": "2024-11-24T12:52:03.785234Z"
    }
   },
   "cell_type": "code",
   "source": [
    "# Calculate Determinant of a Matrix\n",
    "def make_diagonal(matrix: Array) -> Array:\n",
    "    \"\"\"Calculates the determinant of a matrix\"\"\"\n",
    "    identity_matrix = jnp.identity(jnp.size(matrix), dtype=matrix.dtype)\n",
    "    return identity_matrix * matrix"
   ],
   "id": "831583f1b6c4fc85",
   "outputs": [],
   "execution_count": 82
  },
  {
   "metadata": {
    "ExecuteTime": {
     "end_time": "2024-11-24T12:52:04.220006Z",
     "start_time": "2024-11-24T12:52:04.206838Z"
    }
   },
   "cell_type": "code",
   "source": [
    "# Test make_diagonal\n",
    "a = jnp.array([1,2,3])\n",
    "print(make_diagonal(a))"
   ],
   "id": "2f962a0cdff296cd",
   "outputs": [
    {
     "name": "stdout",
     "output_type": "stream",
     "text": [
      "[[1 0 0]\n",
      " [0 2 0]\n",
      " [0 0 3]]\n"
     ]
    }
   ],
   "execution_count": 83
  },
  {
   "metadata": {
    "ExecuteTime": {
     "end_time": "2024-11-24T15:00:45.445443Z",
     "start_time": "2024-11-24T15:00:45.439672Z"
    }
   },
   "cell_type": "code",
   "source": [
    "# Implement Compressed Row Sparse Matrix (CSR) Format Conversion\n",
    " \n",
    "def compressed_row_sparse_matrix (dense_matrix: Array) -> [Array, Array, Array]:\n",
    "    \"\"\"Converts a dense matrix to a compressed row sparse matrix\"\"\"\n",
    "    crs_row = []\n",
    "    crs_col = []\n",
    "    crs_data = []\n",
    "    for i in range(dense_matrix.shape[0]):\n",
    "        for j in range(dense_matrix.shape[1]):\n",
    "            if dense_matrix[i,j] != 0:\n",
    "                crs_data.append(dense_matrix[i,j])\n",
    "                crs_col.append(j)\n",
    "        crs_row.append(len(crs_data))\n",
    "    return jnp.array(crs_data), jnp.array(crs_col), jnp.array(crs_row)"
   ],
   "id": "af7309fd03e600b8",
   "outputs": [],
   "execution_count": 84
  },
  {
   "metadata": {
    "ExecuteTime": {
     "end_time": "2024-11-24T15:01:05.119844Z",
     "start_time": "2024-11-24T15:01:05.056263Z"
    }
   },
   "cell_type": "code",
   "source": [
    "# Test compressed_row_sparse_matrix\n",
    "a = jnp.array([\n",
    "        [1, 0, 0, 0],\n",
    "        [0, 2, 0, 0],\n",
    "        [3, 0, 4, 0],\n",
    "        [1, 0, 0, 5]\n",
    "]\n",
    ")\n",
    "print(compressed_row_sparse_matrix(a))"
   ],
   "id": "907d5b379a3bec8f",
   "outputs": [
    {
     "name": "stdout",
     "output_type": "stream",
     "text": [
      "(Array([1, 2, 3, 4, 1, 5], dtype=int32), Array([0, 1, 0, 2, 0, 3], dtype=int32), Array([1, 2, 4, 6], dtype=int32))\n"
     ]
    }
   ],
   "execution_count": 85
  },
  {
   "metadata": {
    "ExecuteTime": {
     "end_time": "2024-11-24T15:12:17.463464Z",
     "start_time": "2024-11-24T15:12:17.457109Z"
    }
   },
   "cell_type": "code",
   "source": [
    "# Implement Orthogonal Projection of a Vector onto a Line\n",
    "def orthogonal_projection(v: Array, L: Array) -> Array:\n",
    "    \"\"\"Projects a vector onto a line\"\"\"\n",
    "    return jnp.dot(jnp.dot(v, L) / jnp.dot(L, L), L)"
   ],
   "id": "6aed51050c5d0750",
   "outputs": [],
   "execution_count": 86
  },
  {
   "metadata": {
    "ExecuteTime": {
     "end_time": "2024-11-24T15:12:44.213842Z",
     "start_time": "2024-11-24T15:12:44.164389Z"
    }
   },
   "cell_type": "code",
   "source": [
    "# Test orthogonal_projection\n",
    "v = jnp.array([3, 4])\n",
    "L = jnp.array([1, 0])\n",
    "print(orthogonal_projection(v, L))"
   ],
   "id": "1692387b21b3282b",
   "outputs": [
    {
     "name": "stdout",
     "output_type": "stream",
     "text": [
      "[3. 0.]\n"
     ]
    }
   ],
   "execution_count": 87
  },
  {
   "metadata": {
    "ExecuteTime": {
     "end_time": "2024-11-24T15:43:28.866505Z",
     "start_time": "2024-11-24T15:43:28.862983Z"
    }
   },
   "cell_type": "code",
   "source": [
    "# Implement Compressed Column Sparse Matrix Format (CSC)\n",
    "def compressed_col_sparse_matrix (dense_matrix: Array) -> [Array, Array, Array]:\n",
    "\n",
    "    vals = []\n",
    "    row_idx = []\n",
    "    col_ptr = [0]\n",
    "\n",
    "    rows, cols = len(dense_matrix), len(dense_matrix[0])\n",
    "\n",
    "    for i in range(cols):\n",
    "        for j in range(rows):\n",
    "            val = dense_matrix[j][i]\n",
    "            if val != 0:\n",
    "                vals.append(val)\n",
    "                row_idx.append(j)\n",
    "        col_ptr.append(len(vals))\n",
    "\n",
    "    return jnp.array(vals), jnp.array(row_idx), jnp.array(col_ptr)"
   ],
   "id": "d1931169e0f633da",
   "outputs": [],
   "execution_count": 107
  },
  {
   "metadata": {
    "ExecuteTime": {
     "end_time": "2024-11-24T15:43:29.501587Z",
     "start_time": "2024-11-24T15:43:29.496482Z"
    }
   },
   "cell_type": "code",
   "source": [
    "# Test compressed_col_sparse_matrix\n",
    "a = jnp.array([\n",
    "        [0, 0, 3, 0],\n",
    "        [1, 0, 0, 4],\n",
    "        [0, 2, 0, 0]\n",
    "]\n",
    ")\n",
    "print(compressed_col_sparse_matrix(a))"
   ],
   "id": "4a3c1069721628d7",
   "outputs": [
    {
     "name": "stdout",
     "output_type": "stream",
     "text": [
      "(Array([1, 2, 3, 4], dtype=int32), Array([1, 2, 0, 1], dtype=int32), Array([0, 1, 2, 3, 4], dtype=int32))\n"
     ]
    }
   ],
   "execution_count": 108
  },
  {
   "metadata": {},
   "cell_type": "code",
   "outputs": [],
   "execution_count": null,
   "source": "",
   "id": "2d77df89653b6a3d"
  }
 ],
 "metadata": {
  "kernelspec": {
   "display_name": "Python 3",
   "language": "python",
   "name": "python3"
  },
  "language_info": {
   "codemirror_mode": {
    "name": "ipython",
    "version": 2
   },
   "file_extension": ".py",
   "mimetype": "text/x-python",
   "name": "python",
   "nbconvert_exporter": "python",
   "pygments_lexer": "ipython2",
   "version": "2.7.6"
  }
 },
 "nbformat": 4,
 "nbformat_minor": 5
}
