{
 "cells": [
  {
   "metadata": {
    "ExecuteTime": {
     "end_time": "2024-11-24T23:13:15.894703Z",
     "start_time": "2024-11-24T23:13:15.893086Z"
    }
   },
   "cell_type": "code",
   "source": "import mlx.core as mx\n",
   "id": "420e6117ba63ae4b",
   "outputs": [],
   "execution_count": 29
  },
  {
   "metadata": {
    "ExecuteTime": {
     "end_time": "2024-11-24T23:13:16.336351Z",
     "start_time": "2024-11-24T23:13:16.329743Z"
    }
   },
   "cell_type": "code",
   "source": [
    "# Linear Regression Using the Normal Equation\n",
    "def linear_regression_normal_equation(X: mx.array, y: mx.array) -> mx.array:\n",
    "    return mx.linalg.inv(X.T @ X , stream=mx.cpu) @ X.T @ y\n",
    "# Test the function\n",
    "X = mx.array([[1, 1], [1, 2], [1, 3]], dtype=mx.float32)\n",
    "y = mx.array([1, 2, 3], dtype=mx.float32)\n",
    "linear_regression_normal_equation(X, y)"
   ],
   "id": "5c49cd158546145f",
   "outputs": [
    {
     "data": {
      "text/plain": [
       "array([9.53674e-07, 0.999999], dtype=float32)"
      ]
     },
     "execution_count": 30,
     "metadata": {},
     "output_type": "execute_result"
    }
   ],
   "execution_count": 30
  },
  {
   "metadata": {
    "ExecuteTime": {
     "end_time": "2024-11-24T23:13:17.517870Z",
     "start_time": "2024-11-24T23:13:17.042597Z"
    }
   },
   "cell_type": "code",
   "source": [
    "# Linear Regression Using Gradient Descent\n",
    "def linear_regression_gradient_descent(X: mx.array, y: mx.array, alpha: mx.float32 = 0.1, n_iterations: mx.int32 = 10000, seed: mx.int32 = 0) -> mx.array:\n",
    "    # Initialize theta at random\n",
    "    key = mx.random.key(seed)\n",
    "    theta = mx.random.uniform(key=key, shape =(X.shape[1], 1), dtype=mx.float32)\n",
    "    for _ in range(n_iterations):\n",
    "        y_pred = X @ theta\n",
    "        error = y_pred - y.reshape(-1, 1)\n",
    "        gradient = X.T @ error / X.shape[0]\n",
    "        theta = theta - alpha * gradient\n",
    "    return theta\n",
    "# Test the function\n",
    "X = mx.array([[1, 1], [1, 2], [1, 3]] , dtype=mx.float32)\n",
    "y = mx.array([1, 2, 3] , dtype=mx.float32)\n",
    "linear_regression_gradient_descent(X, y)"
   ],
   "id": "1be97a2b4b570b6a",
   "outputs": [
    {
     "data": {
      "text/plain": [
       "array([[5.96017e-07],\n",
       "       [1]], dtype=float32)"
      ]
     },
     "execution_count": 31,
     "metadata": {},
     "output_type": "execute_result"
    }
   ],
   "execution_count": 31
  },
  {
   "metadata": {
    "ExecuteTime": {
     "end_time": "2024-11-24T23:13:18.239640Z",
     "start_time": "2024-11-24T23:13:18.235111Z"
    }
   },
   "cell_type": "code",
   "source": [
    "# Feature Scaling Implementation \n",
    "def feature_scaling(X: mx.array) -> [mx.array, mx.array]:\n",
    "    # Standardization\n",
    "    mean = X.mean(axis=0)\n",
    "    std = X.std(axis=0)\n",
    "    standardized_data = (X - mean) / std\n",
    "    \n",
    "    # Min-Max Normalization\n",
    "    min_value = X.min(axis=0)\n",
    "    max_value = X.max(axis=0)\n",
    "    normalized_data = (X - min_value) / (max_value - min_value)\n",
    "    \n",
    "    return standardized_data, normalized_data\n",
    "    \n",
    "# Test the function\n",
    "X = mx.array([[1, 2], [3, 4], [5, 6]] , dtype=mx.float32)\n",
    "feature_scaling(X)"
   ],
   "id": "4b24978f60240cd3",
   "outputs": [
    {
     "data": {
      "text/plain": [
       "(array([[-1.22474, -1.22474],\n",
       "        [0, 0],\n",
       "        [1.22474, 1.22474]], dtype=float32),\n",
       " array([[0, 0],\n",
       "        [0.5, 0.5],\n",
       "        [1, 1]], dtype=float32))"
      ]
     },
     "execution_count": 32,
     "metadata": {},
     "output_type": "execute_result"
    }
   ],
   "execution_count": 32
  },
  {
   "metadata": {
    "ExecuteTime": {
     "end_time": "2024-11-24T23:13:19.005419Z",
     "start_time": "2024-11-24T23:13:19.000535Z"
    }
   },
   "cell_type": "code",
   "source": [
    "# Random Shuffle of Dataset\n",
    "def shuffle_data(X: mx.array, y: mx.array) -> [mx.array, mx.array]:\n",
    "    perm = mx.random.permutation(X.shape[0])\n",
    "    return X[perm], y[perm]\n",
    "# Test the function\n",
    "X = mx.array([[1, 2], [3, 4], [5, 6]] , dtype=mx.float32)\n",
    "y = mx.array([1, 2, 3] , dtype=mx.float32)\n",
    "shuffle_data(X, y)"
   ],
   "id": "d0de6d9b54afb759",
   "outputs": [
    {
     "data": {
      "text/plain": [
       "(array([[3, 4],\n",
       "        [5, 6],\n",
       "        [1, 2]], dtype=float32),\n",
       " array([2, 3, 1], dtype=float32))"
      ]
     },
     "execution_count": 33,
     "metadata": {},
     "output_type": "execute_result"
    }
   ],
   "execution_count": 33
  },
  {
   "metadata": {
    "ExecuteTime": {
     "end_time": "2024-11-24T23:13:19.542819Z",
     "start_time": "2024-11-24T23:13:19.539186Z"
    }
   },
   "cell_type": "code",
   "source": [
    "# Batch Iterator for Dataset\n",
    "def batch_iterator(X: mx.array, y: mx.array, batch_size: mx.int32 = 32) -> [mx.array, mx.array]:\n",
    "    n_samples = X.shape[0]\n",
    "    for i in range(0, n_samples, batch_size):\n",
    "        yield X[i:i+batch_size], y[i:i+batch_size]\n",
    "        \n",
    "# Test the function\n",
    "X = mx.array([[1, 2],\n",
    "               [3, 4],\n",
    "               [5, 6],\n",
    "               [7, 8],\n",
    "               [9, 10]] , dtype=mx.float32)\n",
    "y = mx.array([1, 2, 3, 4, 5] , dtype=mx.float32)\n",
    "batch_gen = batch_iterator(X, y, 2)\n",
    "\n",
    "for batch_X, batch_y in batch_gen:\n",
    "    print(\"Batch X:\\n\", batch_X)\n",
    "    print(\"Batch y:\\n\", batch_y)"
   ],
   "id": "634fa8ab14acea8f",
   "outputs": [
    {
     "name": "stdout",
     "output_type": "stream",
     "text": [
      "Batch X:\n",
      " array([[1, 2],\n",
      "       [3, 4]], dtype=float32)\n",
      "Batch y:\n",
      " array([1, 2], dtype=float32)\n",
      "Batch X:\n",
      " array([[5, 6],\n",
      "       [7, 8]], dtype=float32)\n",
      "Batch y:\n",
      " array([3, 4], dtype=float32)\n",
      "Batch X:\n",
      " array([[9, 10]], dtype=float32)\n",
      "Batch y:\n",
      " array([5], dtype=float32)\n"
     ]
    }
   ],
   "execution_count": 34
  },
  {
   "metadata": {
    "ExecuteTime": {
     "end_time": "2024-11-24T23:14:30.462984Z",
     "start_time": "2024-11-24T23:14:30.379771Z"
    }
   },
   "cell_type": "code",
   "source": [
    "# One-Hot Encoding of Nominal Values\n",
    "def to_categorical(X: mx.array, n_classes: mx.int32) -> mx.array:\n",
    "    one_hot = mx.zeros((X.size, n_classes))\n",
    "    for i in range(X.size):\n",
    "        one_hot[i, X[i]] = 1\n",
    "    return one_hot\n",
    "# Test the function\n",
    "X = mx.array([0, 1, 2, 1, 0])\n",
    "to_categorical(X, 3)"
   ],
   "id": "52dbcae27f88ee91",
   "outputs": [
    {
     "data": {
      "text/plain": [
       "array([[1, 0, 0],\n",
       "       [0, 1, 0],\n",
       "       [0, 0, 1],\n",
       "       [0, 1, 0],\n",
       "       [1, 0, 0]], dtype=float32)"
      ]
     },
     "execution_count": 36,
     "metadata": {},
     "output_type": "execute_result"
    }
   ],
   "execution_count": 36
  },
  {
   "metadata": {
    "ExecuteTime": {
     "end_time": "2024-11-24T23:17:19.020335Z",
     "start_time": "2024-11-24T23:17:19.013927Z"
    }
   },
   "cell_type": "code",
   "source": [
    "# Calculate Accuracy Score\n",
    "def accuracy_score(y_true: mx.array, y_pred: mx.array) -> mx.float32:\n",
    "    true_predictions = 0\n",
    "    for i in range(y_true.size):\n",
    "        if y_true[i] ==y_pred[i]:\n",
    "            true_predictions += 1\n",
    "    return true_predictions / y_true.size\n",
    "# Test the function\n",
    "y_true = mx.array([1, 0, 1, 1, 0, 1])\n",
    "y_pred = mx.array([1, 0, 0, 1, 0, 1])\n",
    "accuracy_score(y_true, y_pred)"
   ],
   "id": "b162bae20b0d261e",
   "outputs": [
    {
     "data": {
      "text/plain": [
       "0.8333333333333334"
      ]
     },
     "execution_count": 39,
     "metadata": {},
     "output_type": "execute_result"
    }
   ],
   "execution_count": 39
  },
  {
   "metadata": {
    "ExecuteTime": {
     "end_time": "2024-11-24T23:17:27.634595Z",
     "start_time": "2024-11-24T23:17:27.627674Z"
    }
   },
   "cell_type": "code",
   "source": [
    "# Implement Ridge Regression Loss Function\n",
    "def ridge_loss(X: mx.array, w: mx.array, y_true: mx.array, alpha: mx.float32) -> mx.float32:\n",
    "   return mx.mean((X @ w - y_true) ** 2) + alpha * mx.sum(w ** 2)\n",
    "# Test the function\n",
    "X = mx.array([[1, 1], [2, 1], [3, 1], [4, 1]], dtype=mx.float32)\n",
    "w = mx.array([0.2, 2], dtype=mx.float32)\n",
    "y_true = mx.array([2, 3, 4, 5], dtype=mx.float32)\n",
    "alpha = 0.1\n",
    "ridge_loss(X, w, y_true, alpha)"
   ],
   "id": "1816644224d8c24b",
   "outputs": [
    {
     "data": {
      "text/plain": [
       "array(2.204, dtype=float32)"
      ]
     },
     "execution_count": 40,
     "metadata": {},
     "output_type": "execute_result"
    }
   ],
   "execution_count": 40
  },
  {
   "metadata": {
    "ExecuteTime": {
     "end_time": "2024-11-24T23:17:28.281388Z",
     "start_time": "2024-11-24T23:17:28.278546Z"
    }
   },
   "cell_type": "code",
   "source": [
    "# Linear Kernel Function\n",
    "def kernel_function(X1: mx.array, X2: mx.array) -> mx.float32:\n",
    "    return mx.inner(X1, X2)\n",
    "# Test the function\n",
    "X1 = mx.array([1, 2, 3], dtype=mx.float32)\n",
    "X2 = mx.array([4, 5, 6], dtype=mx.float32)\n",
    "kernel_function(X1, X2)"
   ],
   "id": "a33263c3ac12510b",
   "outputs": [
    {
     "data": {
      "text/plain": [
       "array(32, dtype=float32)"
      ]
     },
     "execution_count": 41,
     "metadata": {},
     "output_type": "execute_result"
    }
   ],
   "execution_count": 41
  },
  {
   "metadata": {
    "ExecuteTime": {
     "end_time": "2024-11-24T23:17:28.975812Z",
     "start_time": "2024-11-24T23:17:28.954549Z"
    }
   },
   "cell_type": "code",
   "source": [
    "# Implement Precision Metric\n",
    "def precision(y_true: mx.array, y_pred: mx.array) -> mx.float32:\n",
    "    true_positives = 0\n",
    "    false_positives = 0\n",
    "    for i in range(y_true.size):\n",
    "        if y_true[i] == 1 and y_pred[i] == 1:\n",
    "            true_positives += 1\n",
    "        elif y_true[i] == 0 and y_pred[i] == 1:\n",
    "            false_positives += 1\n",
    "    return true_positives / (true_positives + false_positives)\n",
    "# Test the function\n",
    "y_true = mx.array([1, 0, 1, 1, 0, 1], dtype=mx.float32)\n",
    "y_pred = mx.array([1, 0, 1, 0, 0, 1], dtype=mx.float32)\n",
    "precision(y_true, y_pred)"
   ],
   "id": "1a27bc56532fb1f4",
   "outputs": [
    {
     "data": {
      "text/plain": [
       "1.0"
      ]
     },
     "execution_count": 42,
     "metadata": {},
     "output_type": "execute_result"
    }
   ],
   "execution_count": 42
  },
  {
   "metadata": {
    "ExecuteTime": {
     "end_time": "2024-11-24T23:17:29.438253Z",
     "start_time": "2024-11-24T23:17:29.432277Z"
    }
   },
   "cell_type": "code",
   "source": [
    "# Implement Recall Metric in Binary Classification\n",
    "def recall(y_true: mx.array, y_pred: mx.array) -> mx.float32:\n",
    "    true_positives = 0\n",
    "    false_negatives = 0\n",
    "    for i in range(y_true.size):\n",
    "        if y_true[i] == 1 and y_pred[i] == 1:\n",
    "            true_positives += 1\n",
    "        elif y_true[i] == 1 and y_pred[i] == 0:\n",
    "            false_negatives += 1\n",
    "    return true_positives / (true_positives + false_negatives)\n",
    "# Test the function\n",
    "y_true = mx.array([1, 0, 1, 1, 0, 1], dtype=mx.float32)\n",
    "y_pred = mx.array([1, 0, 1, 0, 0, 1], dtype=mx.float32)\n",
    "recall(y_true, y_pred)"
   ],
   "id": "8526e719fd88e4ae",
   "outputs": [
    {
     "data": {
      "text/plain": [
       "0.75"
      ]
     },
     "execution_count": 43,
     "metadata": {},
     "output_type": "execute_result"
    }
   ],
   "execution_count": 43
  },
  {
   "metadata": {
    "ExecuteTime": {
     "end_time": "2024-11-24T23:17:29.721049Z",
     "start_time": "2024-11-24T23:17:29.685482Z"
    }
   },
   "cell_type": "code",
   "source": [
    "# Implement F-Score Calculation for Binary Classification\n",
    "def f_score(y_true: mx.array, y_pred: mx.array, beta: mx.float32 = 1) -> mx.float32:\n",
    "    p = precision(y_true, y_pred)\n",
    "    r = recall(y_true, y_pred)\n",
    "    return (1 + beta ** 2) * (p * r) / ((beta ** 2) * p + r)\n",
    "# Test the function\n",
    "y_true = mx.array([1, 0, 1, 1, 0, 1], dtype=mx.float32)\n",
    "y_pred = mx.array([1, 0, 1, 0, 0, 1], dtype=mx.float32)\n",
    "f_score(y_true, y_pred)"
   ],
   "id": "5dfe6d7e0cfa13ce",
   "outputs": [
    {
     "data": {
      "text/plain": [
       "0.8571428571428571"
      ]
     },
     "execution_count": 44,
     "metadata": {},
     "output_type": "execute_result"
    }
   ],
   "execution_count": 44
  },
  {
   "metadata": {
    "ExecuteTime": {
     "end_time": "2024-11-24T23:17:30.119285Z",
     "start_time": "2024-11-24T23:17:30.113545Z"
    }
   },
   "cell_type": "code",
   "source": [
    "# Implement Gini Impurity Calculation for a Set of Classes\n",
    "def gini_impurity(y: mx.array) -> mx.float32:\n",
    "    bincount = mx.zeros(y.max() + 1)\n",
    "    for i in range(y.size):\n",
    "        bincount = bincount.at[y[i]].add(1)\n",
    "    return 1 - mx.sum((bincount / y.size) ** 2)\n",
    "# Test the function\n",
    "y = mx.array([0, 1, 1, 1, 0])\n",
    "gini_impurity(y)"
   ],
   "id": "a2b7e9ef9ac9b90d",
   "outputs": [
    {
     "data": {
      "text/plain": [
       "array(0.48, dtype=float32)"
      ]
     },
     "execution_count": 45,
     "metadata": {},
     "output_type": "execute_result"
    }
   ],
   "execution_count": 45
  },
  {
   "metadata": {
    "ExecuteTime": {
     "end_time": "2024-11-24T23:17:30.307239Z",
     "start_time": "2024-11-24T23:17:30.304057Z"
    }
   },
   "cell_type": "code",
   "source": [
    "# Calculate R-squared for Regression Analysis\n",
    "\n",
    "def r_squared(y_true: mx.array, y_pred: mx.array) -> mx.float32:\n",
    "    ss_res = mx.sum((y_true - y_pred) ** 2)\n",
    "    ss_tot = mx.sum((y_true - y_true.mean()) ** 2)\n",
    "    return 1 - ss_res / ss_tot\n",
    "# Test the function\n",
    "y_true = mx.array([1, 2, 3, 4, 5])\n",
    "y_pred = mx.array([1.1, 2.1, 2.9, 4.2, 4.8])\n",
    "r_squared(y_true, y_pred)"
   ],
   "id": "aea7d04b08c9e58",
   "outputs": [
    {
     "data": {
      "text/plain": [
       "array(0.989, dtype=float32)"
      ]
     },
     "execution_count": 46,
     "metadata": {},
     "output_type": "execute_result"
    }
   ],
   "execution_count": 46
  },
  {
   "metadata": {
    "ExecuteTime": {
     "end_time": "2024-11-24T23:17:30.456101Z",
     "start_time": "2024-11-24T23:17:30.452653Z"
    }
   },
   "cell_type": "code",
   "source": [
    "# Calculate Root Mean Square Error (RMSE)\n",
    "def rmse(y_true: mx.array, y_pred: mx.array) -> mx.float32:\n",
    "    return mx.sqrt(mx.mean((y_true - y_pred) ** 2))\n",
    "# Test the function\n",
    "y_true = mx.array([3, -0.5, 2, 7])\n",
    "y_pred = mx.array([2.5, 0.0, 2, 8])\n",
    "rmse(y_true, y_pred)"
   ],
   "id": "bc2ff87d507028a9",
   "outputs": [
    {
     "data": {
      "text/plain": [
       "array(0.612372, dtype=float32)"
      ]
     },
     "execution_count": 47,
     "metadata": {},
     "output_type": "execute_result"
    }
   ],
   "execution_count": 47
  },
  {
   "metadata": {
    "ExecuteTime": {
     "end_time": "2024-11-24T23:17:30.850756Z",
     "start_time": "2024-11-24T23:17:30.841619Z"
    }
   },
   "cell_type": "code",
   "source": [
    "# Calculate Jaccard Index for Binary Classification\n",
    "def jaccard_index(y_true: mx.array, y_pred: mx.array) -> mx.float32:\n",
    "    intersection = 0\n",
    "    union = 0\n",
    "    for i in range(y_true.size):\n",
    "        if y_true[i] == 1 and y_pred[i] == 1:\n",
    "            intersection += 1\n",
    "        if y_true[i] == 1 or y_pred[i] == 1:\n",
    "            union += 1\n",
    "    result = intersection / union\n",
    "    if mx.isnan(result):\n",
    "        return  0.0\n",
    "    return intersection / union\n",
    "y_true = mx.array([1, 0, 1, 1, 0, 1])\n",
    "y_pred = mx.array([1, 0, 1, 0, 0, 1])\n",
    "jaccard_index(y_true, y_pred)"
   ],
   "id": "772559ab5d7fe1e6",
   "outputs": [
    {
     "data": {
      "text/plain": [
       "0.75"
      ]
     },
     "execution_count": 48,
     "metadata": {},
     "output_type": "execute_result"
    }
   ],
   "execution_count": 48
  },
  {
   "metadata": {
    "ExecuteTime": {
     "end_time": "2024-11-24T23:17:31.311382Z",
     "start_time": "2024-11-24T23:17:31.283983Z"
    }
   },
   "cell_type": "code",
   "source": [
    "# Calculate Dice Score for Classification\n",
    "def dice_score(y_true: mx.array, y_pred: mx.array) -> mx.float32:\n",
    "    true_positives = 0\n",
    "    false_positives = 0\n",
    "    false_negatives = 0\n",
    "    for i in range(y_true.size):\n",
    "        if y_true[i] == 1 and y_pred[i] == 1:\n",
    "            true_positives += 1\n",
    "        elif y_true[i] == 0 and y_pred[i] == 1:\n",
    "            false_positives += 1\n",
    "        elif y_true[i] == 1 and y_pred[i] == 0:\n",
    "            false_negatives += 1\n",
    "   \n",
    "    if y_true.sum() == 0 and y_pred.sum() == 0:\n",
    "        return 0.0\n",
    "    return 2 * true_positives / (2 * true_positives + false_positives + false_negatives)\n",
    "# Test the function\n",
    "y_true = mx.array([1, 1, 0, 1, 0, 1])\n",
    "y_pred = mx.array([1, 1, 0, 0, 0, 1])\n",
    "dice_score(y_true, y_pred)"
   ],
   "id": "6682c203333c4ea1",
   "outputs": [
    {
     "data": {
      "text/plain": [
       "0.8571428571428571"
      ]
     },
     "execution_count": 49,
     "metadata": {},
     "output_type": "execute_result"
    }
   ],
   "execution_count": 49
  },
  {
   "metadata": {
    "ExecuteTime": {
     "end_time": "2024-11-24T23:17:31.635523Z",
     "start_time": "2024-11-24T23:17:31.613104Z"
    }
   },
   "cell_type": "code",
   "source": [
    "# Generate a Confusion Matrix for Binary Classification\n",
    "def confusion_matrix(data: mx.array) -> mx.array:\n",
    "    tp, fp, fn, tn = 0, 0, 0, 0\n",
    "    for i in range(data.shape[0]):\n",
    "        if data[i, 0] == 1 and data[i, 1] == 1:\n",
    "            tp += 1\n",
    "        elif data[i, 0] == 1 and data[i, 1] == 0:\n",
    "            fp += 1\n",
    "        elif data[i, 0] == 0 and data[i, 1] == 1:\n",
    "            fn += 1\n",
    "        elif data[i, 0] == 0 and data[i, 1] == 0:\n",
    "            tn += 1\n",
    "    conf_matrix = mx.array([[tp, fp], [fn, tn]])\n",
    "    return conf_matrix\n",
    "# Test the function\n",
    "data = mx.array([[1, 1], [1, 0], [0, 1], [0, 0], [0, 1]])\n",
    "confusion_matrix(data)"
   ],
   "id": "7fc407691d27b953",
   "outputs": [
    {
     "data": {
      "text/plain": [
       "array([[1, 1],\n",
       "       [2, 1]], dtype=int32)"
      ]
     },
     "execution_count": 50,
     "metadata": {},
     "output_type": "execute_result"
    }
   ],
   "execution_count": 50
  }
 ],
 "metadata": {
  "kernelspec": {
   "display_name": "Python 3",
   "language": "python",
   "name": "python3"
  },
  "language_info": {
   "codemirror_mode": {
    "name": "ipython",
    "version": 2
   },
   "file_extension": ".py",
   "mimetype": "text/x-python",
   "name": "python",
   "nbconvert_exporter": "python",
   "pygments_lexer": "ipython2",
   "version": "2.7.6"
  }
 },
 "nbformat": 4,
 "nbformat_minor": 5
}
