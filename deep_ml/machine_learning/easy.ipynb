{
 "cells": [
  {
   "cell_type": "code",
   "id": "initial_id",
   "metadata": {
    "collapsed": true,
    "ExecuteTime": {
     "end_time": "2024-11-24T17:42:53.404052Z",
     "start_time": "2024-11-24T17:42:53.114734Z"
    }
   },
   "source": [
    "import jax.numpy as jnp\n",
    "import jax\n",
    "from jax import lax\n",
    "from jax import Array"
   ],
   "outputs": [],
   "execution_count": 1
  },
  {
   "metadata": {
    "ExecuteTime": {
     "end_time": "2024-11-24T17:51:04.207042Z",
     "start_time": "2024-11-24T17:51:03.716083Z"
    }
   },
   "cell_type": "code",
   "source": [
    "# Linear Regression Using the Normal Equation\n",
    "def linear_regression_normal_equation(X: Array, y: Array) -> Array:\n",
    "    return jnp.linalg.inv(X.T @ X) @ X.T @ y\n",
    "# Test the function\n",
    "X = jnp.array([[1, 1], [1, 2], [1, 3]])\n",
    "y = jnp.array([1, 2, 3])\n",
    "linear_regression_normal_equation(X, y)"
   ],
   "id": "5c49cd158546145f",
   "outputs": [
    {
     "data": {
      "text/plain": [
       "Array([9.536743e-07, 1.000000e+00], dtype=float32)"
      ]
     },
     "execution_count": 2,
     "metadata": {},
     "output_type": "execute_result"
    }
   ],
   "execution_count": 2
  },
  {
   "metadata": {
    "ExecuteTime": {
     "end_time": "2024-11-24T18:07:47.538813Z",
     "start_time": "2024-11-24T18:07:47.020500Z"
    }
   },
   "cell_type": "code",
   "source": [
    "# Linear Regression Using Gradient Descent\n",
    "def linear_regression_gradient_descent(X: Array, y: Array, alpha: jnp.float32 = 0.1, n_iterations: jnp.int32 = 10000, seed: jnp.int32 = 0) -> Array:\n",
    "    # Initialize theta at random\n",
    "    key = jax.random.key(seed)\n",
    "    theta = jax.random.normal(key, (X.shape[1], 1))\n",
    "    for _ in range(n_iterations):\n",
    "        y_pred = X @ theta\n",
    "        error = y_pred - y.reshape(-1, 1)\n",
    "        gradient = X.T @ error / X.shape[0]\n",
    "        theta = theta - alpha * gradient\n",
    "    return theta\n",
    "# Test the function\n",
    "X = jnp.array([[1, 1], [1, 2], [1, 3]])\n",
    "y = jnp.array([1, 2, 3])\n",
    "linear_regression_gradient_descent(X, y)"
   ],
   "id": "1be97a2b4b570b6a",
   "outputs": [
    {
     "data": {
      "text/plain": [
       "Array([[-1.4583919e-06],\n",
       "       [ 1.0000007e+00]], dtype=float32)"
      ]
     },
     "execution_count": 9,
     "metadata": {},
     "output_type": "execute_result"
    }
   ],
   "execution_count": 9
  },
  {
   "metadata": {
    "ExecuteTime": {
     "end_time": "2024-11-24T18:14:42.910383Z",
     "start_time": "2024-11-24T18:14:42.903863Z"
    }
   },
   "cell_type": "code",
   "source": [
    "# Feature Scaling Implementation \n",
    "def feature_scaling(X: Array) -> [Array, Array]:\n",
    "    # Standardization\n",
    "    mean = X.mean(axis=0)\n",
    "    std = X.std(axis=0)\n",
    "    standardized_data = (X - mean) / std\n",
    "    \n",
    "    # Min-Max Normalization\n",
    "    min_value = X.min(axis=0)\n",
    "    print(min_value)\n",
    "    max_value = X.max(axis=0)\n",
    "    normalized_data = (X - min_value) / (max_value - min_value)\n",
    "    \n",
    "    return standardized_data, normalized_data\n",
    "    \n",
    "# Test the function\n",
    "X = jnp.array([[1, 2], [3, 4], [5, 6]])\n",
    "feature_scaling(X)"
   ],
   "id": "4b24978f60240cd3",
   "outputs": [
    {
     "name": "stdout",
     "output_type": "stream",
     "text": [
      "[1 2]\n"
     ]
    },
    {
     "data": {
      "text/plain": [
       "(Array([[-1.2247448, -1.2247448],\n",
       "        [ 0.       ,  0.       ],\n",
       "        [ 1.2247448,  1.2247448]], dtype=float32),\n",
       " Array([[0. , 0. ],\n",
       "        [0.5, 0.5],\n",
       "        [1. , 1. ]], dtype=float32))"
      ]
     },
     "execution_count": 15,
     "metadata": {},
     "output_type": "execute_result"
    }
   ],
   "execution_count": 15
  },
  {
   "metadata": {
    "ExecuteTime": {
     "end_time": "2024-11-24T18:18:36.323963Z",
     "start_time": "2024-11-24T18:18:36.316295Z"
    }
   },
   "cell_type": "code",
   "source": [
    "# Random Shuffle of Dataset\n",
    "def shuffle_data(X: Array, y: Array, seed: jnp.int32 = 42) -> [Array, Array]:\n",
    "    key = jax.random.PRNGKey(seed)\n",
    "    perm = jax.random.permutation(key, X.shape[0])\n",
    "    return X[perm], y[perm]\n",
    "# Test the function\n",
    "X = jnp.array([[1, 2], [3, 4], [5, 6]])\n",
    "y = jnp.array([1, 2, 3])\n",
    "shuffle_data(X, y)"
   ],
   "id": "d0de6d9b54afb759",
   "outputs": [
    {
     "data": {
      "text/plain": [
       "(Array([[5, 6],\n",
       "        [1, 2],\n",
       "        [3, 4]], dtype=int32),\n",
       " Array([3, 1, 2], dtype=int32))"
      ]
     },
     "execution_count": 18,
     "metadata": {},
     "output_type": "execute_result"
    }
   ],
   "execution_count": 18
  },
  {
   "metadata": {
    "ExecuteTime": {
     "end_time": "2024-11-24T18:25:18.631016Z",
     "start_time": "2024-11-24T18:25:18.575297Z"
    }
   },
   "cell_type": "code",
   "source": [
    "# Batch Iterator for Dataset\n",
    "def batch_iterator(X: Array, y: Array, batch_size: jnp.int32 = 32) -> [Array, Array]:\n",
    "    n_samples = X.shape[0]\n",
    "    for i in range(0, n_samples, batch_size):\n",
    "        yield X[i:i+batch_size], y[i:i+batch_size]\n",
    "        \n",
    "# Test the function\n",
    "X = jnp.array([[1, 2],\n",
    "               [3, 4],\n",
    "               [5, 6],\n",
    "               [7, 8],\n",
    "               [9, 10]])\n",
    "y = jnp.array([1, 2, 3, 4, 5])\n",
    "batch_gen = batch_iterator(X, y, 2)\n",
    "\n",
    "for batch_X, batch_y in batch_gen:\n",
    "    print(\"Batch X:\\n\", batch_X)\n",
    "    print(\"Batch y:\\n\", batch_y)"
   ],
   "id": "634fa8ab14acea8f",
   "outputs": [
    {
     "name": "stdout",
     "output_type": "stream",
     "text": [
      "Batch X:\n",
      " [[1 2]\n",
      " [3 4]]\n",
      "Batch y:\n",
      " [1 2]\n",
      "Batch X:\n",
      " [[5 6]\n",
      " [7 8]]\n",
      "Batch y:\n",
      " [3 4]\n",
      "Batch X:\n",
      " [[ 9 10]]\n",
      "Batch y:\n",
      " [5]\n"
     ]
    }
   ],
   "execution_count": 21
  },
  {
   "metadata": {
    "ExecuteTime": {
     "end_time": "2024-11-24T18:30:10.484528Z",
     "start_time": "2024-11-24T18:30:10.417540Z"
    }
   },
   "cell_type": "code",
   "source": [
    "# One-Hot Encoding of Nominal Values\n",
    "def to_categorical(X: Array, n_classes: jnp.int32) -> Array:\n",
    "    one_hot = jnp.zeros((X.size, n_classes))\n",
    "    for i in range(X.size):\n",
    "        one_hot = one_hot.at[i, X[i]].set(1)\n",
    "    return one_hot\n",
    "# Test the function\n",
    "X = jnp.array([0, 1, 2, 1, 0])\n",
    "to_categorical(X, 3)"
   ],
   "id": "52dbcae27f88ee91",
   "outputs": [
    {
     "data": {
      "text/plain": [
       "Array([[1., 0., 0.],\n",
       "       [0., 1., 0.],\n",
       "       [0., 0., 1.],\n",
       "       [0., 1., 0.],\n",
       "       [1., 0., 0.]], dtype=float32)"
      ]
     },
     "execution_count": 25,
     "metadata": {},
     "output_type": "execute_result"
    }
   ],
   "execution_count": 25
  },
  {
   "metadata": {
    "ExecuteTime": {
     "end_time": "2024-11-24T18:31:49.288863Z",
     "start_time": "2024-11-24T18:31:49.255268Z"
    }
   },
   "cell_type": "code",
   "source": [
    "# Calculate Accuracy Score\n",
    "def accuracy_score(y_true: Array, y_pred: Array) -> jnp.float32:\n",
    "    return jnp.mean(y_true == y_pred)\n",
    "# Test the function\n",
    "y_true = jnp.array([1, 0, 1, 1, 0, 1])\n",
    "y_pred = jnp.array([1, 0, 0, 1, 0, 1])\n",
    "accuracy_score(y_true, y_pred)"
   ],
   "id": "b162bae20b0d261e",
   "outputs": [
    {
     "data": {
      "text/plain": [
       "Array(0.8333334, dtype=float32)"
      ]
     },
     "execution_count": 27,
     "metadata": {},
     "output_type": "execute_result"
    }
   ],
   "execution_count": 27
  },
  {
   "metadata": {
    "ExecuteTime": {
     "end_time": "2024-11-24T18:38:58.347481Z",
     "start_time": "2024-11-24T18:38:58.338956Z"
    }
   },
   "cell_type": "code",
   "source": [
    "# Implement Ridge Regression Loss Function\n",
    "def ridge_loss(X: Array, w: Array, y_true: Array, alpha: jnp.float32) -> jnp.float32:\n",
    "   return jnp.mean((X @ w - y_true) ** 2) + alpha * jnp.sum(w ** 2)\n",
    "# Test the function\n",
    "X = jnp.array([[1, 1], [2, 1], [3, 1], [4, 1]])\n",
    "w = jnp.array([0.2, 2])\n",
    "y_true = jnp.array([2, 3, 4, 5])\n",
    "alpha = 0.1\n",
    "ridge_loss(X, w, y_true, alpha)"
   ],
   "id": "1816644224d8c24b",
   "outputs": [
    {
     "data": {
      "text/plain": [
       "Array(2.204, dtype=float32)"
      ]
     },
     "execution_count": 29,
     "metadata": {},
     "output_type": "execute_result"
    }
   ],
   "execution_count": 29
  },
  {
   "metadata": {
    "ExecuteTime": {
     "end_time": "2024-11-24T18:41:42.495262Z",
     "start_time": "2024-11-24T18:41:42.466900Z"
    }
   },
   "cell_type": "code",
   "source": [
    "# Linear Kernel Function\n",
    "def kernel_function(X1: Array, X2: Array) -> jnp.float32:\n",
    "    return jnp.inner(X1, X2)\n",
    "# Test the function\n",
    "X1 = jnp.array([1, 2, 3])\n",
    "X2 = jnp.array([4, 5, 6])\n",
    "kernel_function(X1, X2)"
   ],
   "id": "a33263c3ac12510b",
   "outputs": [
    {
     "data": {
      "text/plain": [
       "Array(32, dtype=int32)"
      ]
     },
     "execution_count": 30,
     "metadata": {},
     "output_type": "execute_result"
    }
   ],
   "execution_count": 30
  },
  {
   "metadata": {
    "ExecuteTime": {
     "end_time": "2024-11-24T18:43:36.548210Z",
     "start_time": "2024-11-24T18:43:36.478920Z"
    }
   },
   "cell_type": "code",
   "source": [
    "# Implement Precision Metric\n",
    "def precision(y_true: Array, y_pred: Array) -> jnp.float32:\n",
    "    true_positives = jnp.sum((y_true == 1) & (y_pred == 1))\n",
    "    false_positives = jnp.sum((y_true == 0) & (y_pred == 1))\n",
    "    return true_positives / (true_positives + false_positives)\n",
    "# Test the function\n",
    "y_true = jnp.array([1, 0, 1, 1, 0, 1])\n",
    "y_pred = jnp.array([1, 0, 1, 0, 0, 1])\n",
    "precision(y_true, y_pred)"
   ],
   "id": "1a27bc56532fb1f4",
   "outputs": [
    {
     "data": {
      "text/plain": [
       "Array(1., dtype=float32)"
      ]
     },
     "execution_count": 31,
     "metadata": {},
     "output_type": "execute_result"
    }
   ],
   "execution_count": 31
  },
  {
   "metadata": {
    "ExecuteTime": {
     "end_time": "2024-11-24T18:44:56.740973Z",
     "start_time": "2024-11-24T18:44:56.721270Z"
    }
   },
   "cell_type": "code",
   "source": [
    "# Implement Recall Metric in Binary Classification\n",
    "def recall(y_true: Array, y_pred: Array) -> jnp.float32:\n",
    "    true_positives = jnp.sum((y_true == 1) & (y_pred == 1))\n",
    "    false_negatives = jnp.sum((y_true == 1) & (y_pred == 0))\n",
    "    return true_positives / (true_positives + false_negatives)\n",
    "# Test the function\n",
    "y_true = jnp.array([1, 0, 1, 1, 0, 1])\n",
    "y_pred = jnp.array([1, 0, 1, 0, 0, 1])\n",
    "recall(y_true, y_pred)"
   ],
   "id": "8526e719fd88e4ae",
   "outputs": [
    {
     "data": {
      "text/plain": [
       "Array(0.75, dtype=float32)"
      ]
     },
     "execution_count": 32,
     "metadata": {},
     "output_type": "execute_result"
    }
   ],
   "execution_count": 32
  },
  {
   "metadata": {
    "ExecuteTime": {
     "end_time": "2024-11-24T18:46:45.266497Z",
     "start_time": "2024-11-24T18:46:45.206759Z"
    }
   },
   "cell_type": "code",
   "source": [
    "# Implement F-Score Calculation for Binary Classification\n",
    "def f_score(y_true: Array, y_pred: Array, beta: jnp.float32 = 1) -> jnp.float32:\n",
    "    p = precision(y_true, y_pred)\n",
    "    r = recall(y_true, y_pred)\n",
    "    return (1 + beta ** 2) * (p * r) / ((beta ** 2) * p + r)\n",
    "# Test the function\n",
    "y_true = jnp.array([1, 0, 1, 1, 0, 1])\n",
    "y_pred = jnp.array([1, 0, 1, 0, 0, 1])\n",
    "f_score(y_true, y_pred)"
   ],
   "id": "5dfe6d7e0cfa13ce",
   "outputs": [
    {
     "data": {
      "text/plain": [
       "Array(0.85714287, dtype=float32)"
      ]
     },
     "execution_count": 33,
     "metadata": {},
     "output_type": "execute_result"
    }
   ],
   "execution_count": 33
  },
  {
   "metadata": {
    "ExecuteTime": {
     "end_time": "2024-11-24T19:13:45.110580Z",
     "start_time": "2024-11-24T19:13:44.974362Z"
    }
   },
   "cell_type": "code",
   "source": [
    "# Implement Gini Impurity Calculation for a Set of Classes\n",
    "def gini_impurity(y: Array) -> jnp.float32:\n",
    "    return 1 - jnp.sum((jnp.bincount(y) / y.size) ** 2)\n",
    "# Test the function\n",
    "y = jnp.array([0, 1, 1, 1, 0])\n",
    "gini_impurity(y)"
   ],
   "id": "a2b7e9ef9ac9b90d",
   "outputs": [
    {
     "data": {
      "text/plain": [
       "Array(0.47999996, dtype=float32)"
      ]
     },
     "execution_count": 34,
     "metadata": {},
     "output_type": "execute_result"
    }
   ],
   "execution_count": 34
  },
  {
   "metadata": {
    "ExecuteTime": {
     "end_time": "2024-11-24T19:16:03.637391Z",
     "start_time": "2024-11-24T19:16:03.565468Z"
    }
   },
   "cell_type": "code",
   "source": [
    "# Calculate R-squared for Regression Analysis\n",
    "\n",
    "def r_squared(y_true: Array, y_pred: Array) -> jnp.float32:\n",
    "    ss_res = jnp.sum((y_true - y_pred) ** 2)\n",
    "    ss_tot = jnp.sum((y_true - y_true.mean()) ** 2)\n",
    "    return 1 - ss_res / ss_tot\n",
    "# Test the function\n",
    "y_true = jnp.array([1, 2, 3, 4, 5])\n",
    "y_pred = jnp.array([1.1, 2.1, 2.9, 4.2, 4.8])\n",
    "r_squared(y_true, y_pred)"
   ],
   "id": "aea7d04b08c9e58",
   "outputs": [
    {
     "data": {
      "text/plain": [
       "Array(0.989, dtype=float32)"
      ]
     },
     "execution_count": 35,
     "metadata": {},
     "output_type": "execute_result"
    }
   ],
   "execution_count": 35
  },
  {
   "metadata": {
    "ExecuteTime": {
     "end_time": "2024-11-24T19:18:28.945895Z",
     "start_time": "2024-11-24T19:18:28.906444Z"
    }
   },
   "cell_type": "code",
   "source": [
    "# Calculate Root Mean Square Error (RMSE)\n",
    "def rmse(y_true: Array, y_pred: Array) -> jnp.float32:\n",
    "    return jnp.sqrt(jnp.mean((y_true - y_pred) ** 2))\n",
    "# Test the function\n",
    "y_true = jnp.array([3, -0.5, 2, 7])\n",
    "y_pred = jnp.array([2.5, 0.0, 2, 8])\n",
    "rmse(y_true, y_pred)"
   ],
   "id": "bc2ff87d507028a9",
   "outputs": [
    {
     "data": {
      "text/plain": [
       "Array(0.61237246, dtype=float32)"
      ]
     },
     "execution_count": 36,
     "metadata": {},
     "output_type": "execute_result"
    }
   ],
   "execution_count": 36
  },
  {
   "metadata": {
    "ExecuteTime": {
     "end_time": "2024-11-24T19:56:01.628060Z",
     "start_time": "2024-11-24T19:56:01.622820Z"
    }
   },
   "cell_type": "code",
   "source": [
    "# Calculate Jaccard Index for Binary Classification\n",
    "def jaccard_index(y_true: Array, y_pred: Array) -> jnp.float32:\n",
    "    intersection = jnp.sum((y_true ==1) & (y_pred == 1))\n",
    "    union = jnp.sum((y_true ==1 )| (y_pred == 1))\n",
    "    result = intersection / union\n",
    "    if jnp.isnan(result):\n",
    "        return  jnp.float32(0.0)\n",
    "    return intersection / union\n",
    "y_true = jnp.array([1, 0, 1, 1, 0, 1])\n",
    "y_pred = jnp.array([1, 0, 1, 0, 0, 1])\n",
    "jaccard_index(y_true, y_pred)"
   ],
   "id": "772559ab5d7fe1e6",
   "outputs": [
    {
     "data": {
      "text/plain": [
       "Array(0.75, dtype=float32)"
      ]
     },
     "execution_count": 41,
     "metadata": {},
     "output_type": "execute_result"
    }
   ],
   "execution_count": 41
  },
  {
   "metadata": {
    "ExecuteTime": {
     "end_time": "2024-11-24T20:02:01.045548Z",
     "start_time": "2024-11-24T20:02:01.012666Z"
    }
   },
   "cell_type": "code",
   "source": [
    "# Calculate Dice Score for Classification\n",
    "def dice_score(y_true: Array, y_pred: Array) -> jnp.float32:\n",
    "    intersection = jnp.sum((y_true == 1) & (y_pred == 1))\n",
    "    if jnp.sum(y_true == 1) ==0 or jnp.sum(y_pred == 1) == 0:\n",
    "        return jnp.float32(0.0)\n",
    "    return 2 * intersection / (jnp.sum(y_true == 1) + jnp.sum(y_pred == 1))\n",
    "# Test the function\n",
    "y_true = jnp.array([1, 1, 0, 1, 0, 1])\n",
    "y_pred = jnp.array([1, 1, 0, 0, 0, 1])\n",
    "dice_score(y_true, y_pred)"
   ],
   "id": "6682c203333c4ea1",
   "outputs": [
    {
     "data": {
      "text/plain": [
       "Array(0.85714287, dtype=float32)"
      ]
     },
     "execution_count": 43,
     "metadata": {},
     "output_type": "execute_result"
    }
   ],
   "execution_count": 43
  },
  {
   "metadata": {
    "ExecuteTime": {
     "end_time": "2024-11-24T20:05:19.978194Z",
     "start_time": "2024-11-24T20:05:19.888643Z"
    }
   },
   "cell_type": "code",
   "source": [
    "# Generate a Confusion Matrix for Binary Classification\n",
    "def confusion_matrix(data: Array) -> Array:\n",
    "    tp = jnp.sum((data[:, 0] == 1) & (data[:, 1] == 1))\n",
    "    fp = jnp.sum((data[:, 0] == 1) & (data[:, 1] == 0))\n",
    "    fn = jnp.sum((data[:, 0] == 0) & (data[:, 1] == 1))\n",
    "    tn = jnp.sum((data[:, 0] == 0) & (data[:, 1] == 0))\n",
    "    conf_matrix = jnp.array([[tp, fp], [fn, tn]])\n",
    "    return conf_matrix\n",
    "# Test the function\n",
    "data = jnp.array([[1, 1], [1, 0], [0, 1], [0, 0], [0, 1]])\n",
    "confusion_matrix(data)"
   ],
   "id": "7fc407691d27b953",
   "outputs": [
    {
     "data": {
      "text/plain": [
       "Array([[1, 1],\n",
       "       [2, 1]], dtype=int32)"
      ]
     },
     "execution_count": 44,
     "metadata": {},
     "output_type": "execute_result"
    }
   ],
   "execution_count": 44
  }
 ],
 "metadata": {
  "kernelspec": {
   "display_name": "Python 3",
   "language": "python",
   "name": "python3"
  },
  "language_info": {
   "codemirror_mode": {
    "name": "ipython",
    "version": 2
   },
   "file_extension": ".py",
   "mimetype": "text/x-python",
   "name": "python",
   "nbconvert_exporter": "python",
   "pygments_lexer": "ipython2",
   "version": "2.7.6"
  }
 },
 "nbformat": 4,
 "nbformat_minor": 5
}
