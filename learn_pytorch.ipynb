{
 "cells": [
  {
   "cell_type": "code",
   "id": "initial_id",
   "metadata": {
    "collapsed": true,
    "ExecuteTime": {
     "end_time": "2024-10-10T12:25:45.881088Z",
     "start_time": "2024-10-10T12:25:45.877929Z"
    }
   },
   "source": "import torch",
   "outputs": [],
   "execution_count": 33
  },
  {
   "metadata": {
    "ExecuteTime": {
     "end_time": "2024-10-08T18:23:19.600160Z",
     "start_time": "2024-10-08T18:23:19.597690Z"
    }
   },
   "cell_type": "code",
   "source": "print(f\"torch version: {torch.__version__}\")",
   "id": "291aedf6dff77e3c",
   "outputs": [
    {
     "name": "stdout",
     "output_type": "stream",
     "text": [
      "torch version: 2.4.1\n"
     ]
    }
   ],
   "execution_count": 2
  },
  {
   "metadata": {
    "ExecuteTime": {
     "end_time": "2024-10-08T18:23:52.133772Z",
     "start_time": "2024-10-08T18:23:52.119235Z"
    }
   },
   "cell_type": "code",
   "source": [
    "a1 = torch.empty(1)\n",
    "print(a1)"
   ],
   "id": "be97870d98a49346",
   "outputs": [
    {
     "name": "stdout",
     "output_type": "stream",
     "text": [
      "tensor([0.])\n"
     ]
    }
   ],
   "execution_count": 3
  },
  {
   "metadata": {
    "ExecuteTime": {
     "end_time": "2024-10-08T18:24:31.876430Z",
     "start_time": "2024-10-08T18:24:31.872310Z"
    }
   },
   "cell_type": "code",
   "source": [
    "a2 = torch.empty(2)\n",
    "print(a2)"
   ],
   "id": "5785056d2043d9c",
   "outputs": [
    {
     "name": "stdout",
     "output_type": "stream",
     "text": [
      "tensor([0., 0.])\n"
     ]
    }
   ],
   "execution_count": 5
  },
  {
   "metadata": {
    "ExecuteTime": {
     "end_time": "2024-10-08T18:25:45.779838Z",
     "start_time": "2024-10-08T18:25:45.775413Z"
    }
   },
   "cell_type": "code",
   "source": [
    "a3 = torch.empty(2, 3)\n",
    "print(a3)"
   ],
   "id": "1e8ce71a8e813827",
   "outputs": [
    {
     "name": "stdout",
     "output_type": "stream",
     "text": [
      "tensor([[0., 0., 0.],\n",
      "        [0., 0., 0.]])\n"
     ]
    }
   ],
   "execution_count": 6
  },
  {
   "metadata": {
    "ExecuteTime": {
     "end_time": "2024-10-08T18:28:46.294556Z",
     "start_time": "2024-10-08T18:28:46.289493Z"
    }
   },
   "cell_type": "code",
   "source": [
    "a4 = torch.rand(2, 2)\n",
    "print(a4)"
   ],
   "id": "c60c71ea6b25a8b2",
   "outputs": [
    {
     "name": "stdout",
     "output_type": "stream",
     "text": [
      "tensor([[0.0099, 0.2755],\n",
      "        [0.5480, 0.1122]])\n"
     ]
    }
   ],
   "execution_count": 8
  },
  {
   "metadata": {
    "ExecuteTime": {
     "end_time": "2024-10-08T18:30:21.959681Z",
     "start_time": "2024-10-08T18:30:21.955123Z"
    }
   },
   "cell_type": "code",
   "source": [
    "a5 = torch.zeros(3)\n",
    "print(a5)"
   ],
   "id": "70bebbd3d4c62f81",
   "outputs": [
    {
     "name": "stdout",
     "output_type": "stream",
     "text": [
      "tensor([0., 0., 0.])\n"
     ]
    }
   ],
   "execution_count": 11
  },
  {
   "metadata": {
    "ExecuteTime": {
     "end_time": "2024-10-08T18:31:11.104521Z",
     "start_time": "2024-10-08T18:31:11.101458Z"
    }
   },
   "cell_type": "code",
   "source": [
    "a7 = torch.ones(3)\n",
    "print(a7)"
   ],
   "id": "bfee742a69952010",
   "outputs": [
    {
     "name": "stdout",
     "output_type": "stream",
     "text": [
      "tensor([1., 1., 1.])\n"
     ]
    }
   ],
   "execution_count": 14
  },
  {
   "metadata": {
    "ExecuteTime": {
     "end_time": "2024-10-08T18:33:35.810153Z",
     "start_time": "2024-10-08T18:33:35.803094Z"
    }
   },
   "cell_type": "code",
   "source": [
    "a1 = torch.ones(2, 3)\n",
    "print(a1)"
   ],
   "id": "86a6053532b91c9e",
   "outputs": [
    {
     "name": "stdout",
     "output_type": "stream",
     "text": [
      "tensor([[1., 1., 1.],\n",
      "        [1., 1., 1.]])\n"
     ]
    }
   ],
   "execution_count": 15
  },
  {
   "metadata": {
    "ExecuteTime": {
     "end_time": "2024-10-08T18:34:07.132916Z",
     "start_time": "2024-10-08T18:34:07.126598Z"
    }
   },
   "cell_type": "code",
   "source": "a1.size()",
   "id": "f7e594e3ad4662ee",
   "outputs": [
    {
     "data": {
      "text/plain": [
       "torch.Size([2, 3])"
      ]
     },
     "execution_count": 17,
     "metadata": {},
     "output_type": "execute_result"
    }
   ],
   "execution_count": 17
  },
  {
   "metadata": {
    "ExecuteTime": {
     "end_time": "2024-10-08T18:34:42.857284Z",
     "start_time": "2024-10-08T18:34:42.853396Z"
    }
   },
   "cell_type": "code",
   "source": "a1.shape",
   "id": "cc27224f63d68e84",
   "outputs": [
    {
     "data": {
      "text/plain": [
       "torch.Size([2, 3])"
      ]
     },
     "execution_count": 21,
     "metadata": {},
     "output_type": "execute_result"
    }
   ],
   "execution_count": 21
  },
  {
   "metadata": {
    "ExecuteTime": {
     "end_time": "2024-10-08T18:35:20.792762Z",
     "start_time": "2024-10-08T18:35:20.789639Z"
    }
   },
   "cell_type": "code",
   "source": "a1.dtype",
   "id": "af9a4d405b3f5b3c",
   "outputs": [
    {
     "data": {
      "text/plain": [
       "torch.float32"
      ]
     },
     "execution_count": 22,
     "metadata": {},
     "output_type": "execute_result"
    }
   ],
   "execution_count": 22
  },
  {
   "metadata": {
    "ExecuteTime": {
     "end_time": "2024-10-08T18:37:17.405012Z",
     "start_time": "2024-10-08T18:37:17.402105Z"
    }
   },
   "cell_type": "code",
   "source": "a2 = torch.ones(2, 3, dtype=torch.float16)",
   "id": "a30ee99fb50e4bdb",
   "outputs": [],
   "execution_count": 23
  },
  {
   "metadata": {
    "ExecuteTime": {
     "end_time": "2024-10-08T18:37:19.437031Z",
     "start_time": "2024-10-08T18:37:19.434373Z"
    }
   },
   "cell_type": "code",
   "source": "a2.dtype",
   "id": "f1ad47cff92632d9",
   "outputs": [
    {
     "data": {
      "text/plain": [
       "torch.float16"
      ]
     },
     "execution_count": 24,
     "metadata": {},
     "output_type": "execute_result"
    }
   ],
   "execution_count": 24
  },
  {
   "metadata": {
    "ExecuteTime": {
     "end_time": "2024-10-08T18:38:25.168995Z",
     "start_time": "2024-10-08T18:38:25.163922Z"
    }
   },
   "cell_type": "code",
   "source": [
    "l1 = [23, 45, 67]\n",
    "a3 = torch.tensor(l1)"
   ],
   "id": "b600b04a5cb0a82",
   "outputs": [],
   "execution_count": 25
  },
  {
   "metadata": {
    "ExecuteTime": {
     "end_time": "2024-10-08T18:38:42.101790Z",
     "start_time": "2024-10-08T18:38:42.098496Z"
    }
   },
   "cell_type": "code",
   "source": "a3.shape",
   "id": "65d4bae78630ffa1",
   "outputs": [
    {
     "data": {
      "text/plain": [
       "torch.Size([3])"
      ]
     },
     "execution_count": 27,
     "metadata": {},
     "output_type": "execute_result"
    }
   ],
   "execution_count": 27
  },
  {
   "metadata": {
    "ExecuteTime": {
     "end_time": "2024-10-08T18:42:51.398512Z",
     "start_time": "2024-10-08T18:42:51.394066Z"
    }
   },
   "cell_type": "code",
   "source": [
    "l2= [1, 3.9, 5]\n",
    "a4 = torch.tensor(l2, dtype=torch.int)\n",
    "a4.shape"
   ],
   "id": "c6daf803d3ffdff8",
   "outputs": [
    {
     "data": {
      "text/plain": [
       "torch.Size([3])"
      ]
     },
     "execution_count": 35,
     "metadata": {},
     "output_type": "execute_result"
    }
   ],
   "execution_count": 35
  },
  {
   "metadata": {
    "ExecuteTime": {
     "end_time": "2024-10-08T18:42:52.107345Z",
     "start_time": "2024-10-08T18:42:52.103501Z"
    }
   },
   "cell_type": "code",
   "source": "a4.dtype",
   "id": "978539841143be34",
   "outputs": [
    {
     "data": {
      "text/plain": [
       "torch.int32"
      ]
     },
     "execution_count": 36,
     "metadata": {},
     "output_type": "execute_result"
    }
   ],
   "execution_count": 36
  },
  {
   "metadata": {
    "ExecuteTime": {
     "end_time": "2024-10-08T18:42:52.575016Z",
     "start_time": "2024-10-08T18:42:52.572514Z"
    }
   },
   "cell_type": "code",
   "source": "a4",
   "id": "9e7ea490c55f9025",
   "outputs": [
    {
     "data": {
      "text/plain": [
       "tensor([1, 3, 5], dtype=torch.int32)"
      ]
     },
     "execution_count": 37,
     "metadata": {},
     "output_type": "execute_result"
    }
   ],
   "execution_count": 37
  },
  {
   "metadata": {
    "ExecuteTime": {
     "end_time": "2024-10-08T18:45:48.844866Z",
     "start_time": "2024-10-08T18:45:48.842191Z"
    }
   },
   "cell_type": "code",
   "source": [
    "L = [1, 2, 3, 4, 5]\n",
    "a5 = torch.tensor(L, requires_grad=True, dtype=torch.float32)"
   ],
   "id": "22686af80842eaa1",
   "outputs": [],
   "execution_count": 39
  },
  {
   "metadata": {
    "ExecuteTime": {
     "end_time": "2024-10-08T18:45:53.932432Z",
     "start_time": "2024-10-08T18:45:53.928440Z"
    }
   },
   "cell_type": "code",
   "source": "a5",
   "id": "92e2552477bc870e",
   "outputs": [
    {
     "data": {
      "text/plain": [
       "tensor([1., 2., 3., 4., 5.], requires_grad=True)"
      ]
     },
     "execution_count": 40,
     "metadata": {},
     "output_type": "execute_result"
    }
   ],
   "execution_count": 40
  },
  {
   "metadata": {
    "ExecuteTime": {
     "end_time": "2024-10-08T18:52:48.734709Z",
     "start_time": "2024-10-08T18:52:48.729225Z"
    }
   },
   "cell_type": "code",
   "source": [
    "a1 = torch.ones(3)\n",
    "a2 = torch.zeros(3)\n",
    "\n",
    "b= a1 + a2 \n",
    "c = 2 * a1"
   ],
   "id": "6a315f4cfbe5fb4a",
   "outputs": [],
   "execution_count": 41
  },
  {
   "metadata": {
    "ExecuteTime": {
     "end_time": "2024-10-08T18:53:37.113041Z",
     "start_time": "2024-10-08T18:53:37.109917Z"
    }
   },
   "cell_type": "code",
   "source": [
    "print(a1)\n",
    "print(a2)\n",
    "print(b)\n",
    "print(c)"
   ],
   "id": "81ebf3e98235251d",
   "outputs": [
    {
     "name": "stdout",
     "output_type": "stream",
     "text": [
      "tensor([1., 1., 1.])\n",
      "tensor([0., 0., 0.])\n",
      "tensor([1., 1., 1.])\n",
      "tensor([2., 2., 2.])\n"
     ]
    }
   ],
   "execution_count": 43
  },
  {
   "metadata": {
    "ExecuteTime": {
     "end_time": "2024-10-08T18:58:56.045246Z",
     "start_time": "2024-10-08T18:58:56.038063Z"
    }
   },
   "cell_type": "code",
   "source": [
    "c.add_(a1)\n",
    "print(c)"
   ],
   "id": "855ae4d3cd703046",
   "outputs": [
    {
     "name": "stdout",
     "output_type": "stream",
     "text": [
      "tensor([3., 3., 3.])\n"
     ]
    }
   ],
   "execution_count": 44
  },
  {
   "metadata": {
    "ExecuteTime": {
     "end_time": "2024-10-08T19:00:20.590772Z",
     "start_time": "2024-10-08T19:00:20.585755Z"
    }
   },
   "cell_type": "code",
   "source": [
    "a3 = torch.rand(5, 5)\n",
    "print(a3)"
   ],
   "id": "27cffa30b45c8fa1",
   "outputs": [
    {
     "name": "stdout",
     "output_type": "stream",
     "text": [
      "tensor([[0.6139, 0.7828, 0.9920, 0.2115, 0.1632],\n",
      "        [0.8765, 0.9276, 0.3225, 0.7463, 0.6707],\n",
      "        [0.2085, 0.4434, 0.5575, 0.9098, 0.5997],\n",
      "        [0.7493, 0.9207, 0.9347, 0.5103, 0.0998],\n",
      "        [0.5526, 0.2306, 0.1641, 0.2216, 0.7709]])\n"
     ]
    }
   ],
   "execution_count": 45
  },
  {
   "metadata": {
    "ExecuteTime": {
     "end_time": "2024-10-08T19:01:54.577055Z",
     "start_time": "2024-10-08T19:01:54.570459Z"
    }
   },
   "cell_type": "code",
   "source": "a3[:, 0]",
   "id": "4c309f5a6b463b7b",
   "outputs": [
    {
     "data": {
      "text/plain": [
       "tensor([0.6139, 0.8765, 0.2085, 0.7493, 0.5526])"
      ]
     },
     "execution_count": 46,
     "metadata": {},
     "output_type": "execute_result"
    }
   ],
   "execution_count": 46
  },
  {
   "metadata": {
    "ExecuteTime": {
     "end_time": "2024-10-08T19:06:54.333821Z",
     "start_time": "2024-10-08T19:06:54.325946Z"
    }
   },
   "cell_type": "code",
   "source": [
    "A =torch.rand(5)\n",
    "print(A)\n",
    "\n",
    "B= A.numpy()\n",
    "print(B)\n",
    "print(type(B))"
   ],
   "id": "a9da2073c0f543df",
   "outputs": [
    {
     "name": "stdout",
     "output_type": "stream",
     "text": [
      "tensor([0.1421, 0.0403, 0.4708, 0.4063, 0.2667])\n",
      "[0.14212424 0.04033643 0.47081155 0.40625846 0.26673263]\n",
      "<class 'numpy.ndarray'>\n"
     ]
    }
   ],
   "execution_count": 47
  },
  {
   "metadata": {
    "ExecuteTime": {
     "end_time": "2024-10-08T19:08:25.480855Z",
     "start_time": "2024-10-08T19:08:25.478680Z"
    }
   },
   "cell_type": "code",
   "source": [
    "B[0] = 9\n",
    "print(A)"
   ],
   "id": "fb0456fc3f6ed8a3",
   "outputs": [
    {
     "name": "stdout",
     "output_type": "stream",
     "text": [
      "tensor([9.0000, 0.0403, 0.4708, 0.4063, 0.2667])\n"
     ]
    }
   ],
   "execution_count": 50
  },
  {
   "metadata": {
    "ExecuteTime": {
     "end_time": "2024-10-08T19:09:16.674731Z",
     "start_time": "2024-10-08T19:09:16.671829Z"
    }
   },
   "cell_type": "code",
   "source": [
    "import numpy as np\n",
    "A = np.ones(5)\n",
    "B = torch.from_numpy(A)\n",
    "print(A)\n",
    "print(B)\n",
    "print(type(B))"
   ],
   "id": "9740230ee3004e2e",
   "outputs": [
    {
     "name": "stdout",
     "output_type": "stream",
     "text": [
      "[1. 1. 1. 1. 1.]\n",
      "tensor([1., 1., 1., 1., 1.], dtype=torch.float64)\n",
      "<class 'torch.Tensor'>\n"
     ]
    }
   ],
   "execution_count": 52
  },
  {
   "metadata": {
    "ExecuteTime": {
     "end_time": "2024-10-10T08:51:28.935127Z",
     "start_time": "2024-10-10T08:51:28.931359Z"
    }
   },
   "cell_type": "code",
   "source": "X = torch.rand(4, requires_grad=True)",
   "id": "4378428d598b7fb3",
   "outputs": [],
   "execution_count": 2
  },
  {
   "metadata": {
    "ExecuteTime": {
     "end_time": "2024-10-10T08:39:20.794040Z",
     "start_time": "2024-10-10T08:39:20.791888Z"
    }
   },
   "cell_type": "code",
   "source": "X.grad_fn",
   "id": "63d0655705fa072b",
   "outputs": [],
   "execution_count": 3
  },
  {
   "metadata": {
    "ExecuteTime": {
     "end_time": "2024-10-10T08:51:35.597077Z",
     "start_time": "2024-10-10T08:51:35.594479Z"
    }
   },
   "cell_type": "code",
   "source": "Y = X *2",
   "id": "7f0d7c294ccc336a",
   "outputs": [],
   "execution_count": 3
  },
  {
   "metadata": {
    "ExecuteTime": {
     "end_time": "2024-10-10T08:40:22.653387Z",
     "start_time": "2024-10-10T08:40:22.649682Z"
    }
   },
   "cell_type": "code",
   "source": "Y",
   "id": "4f300917bfc85c72",
   "outputs": [
    {
     "data": {
      "text/plain": [
       "tensor([1.7100, 1.0361, 0.4910, 0.6558], grad_fn=<MulBackward0>)"
      ]
     },
     "execution_count": 6,
     "metadata": {},
     "output_type": "execute_result"
    }
   ],
   "execution_count": 6
  },
  {
   "metadata": {
    "ExecuteTime": {
     "end_time": "2024-10-10T08:40:33.337242Z",
     "start_time": "2024-10-10T08:40:33.334465Z"
    }
   },
   "cell_type": "code",
   "source": "Y.grad_fn",
   "id": "1a437a2b6dd947e",
   "outputs": [
    {
     "data": {
      "text/plain": [
       "<MulBackward0 at 0x116121240>"
      ]
     },
     "execution_count": 7,
     "metadata": {},
     "output_type": "execute_result"
    }
   ],
   "execution_count": 7
  },
  {
   "metadata": {
    "ExecuteTime": {
     "end_time": "2024-10-10T08:42:25.527993Z",
     "start_time": "2024-10-10T08:42:25.524481Z"
    }
   },
   "cell_type": "code",
   "source": "Y = X **2",
   "id": "6be26e7d5cfa2fe3",
   "outputs": [],
   "execution_count": 9
  },
  {
   "metadata": {
    "ExecuteTime": {
     "end_time": "2024-10-10T08:42:32.178922Z",
     "start_time": "2024-10-10T08:42:32.175074Z"
    }
   },
   "cell_type": "code",
   "source": "Y",
   "id": "1218e3f964f52929",
   "outputs": [
    {
     "data": {
      "text/plain": [
       "tensor([0.7310, 0.2684, 0.0603, 0.1075], grad_fn=<PowBackward0>)"
      ]
     },
     "execution_count": 10,
     "metadata": {},
     "output_type": "execute_result"
    }
   ],
   "execution_count": 10
  },
  {
   "metadata": {
    "ExecuteTime": {
     "end_time": "2024-10-10T08:52:46.089507Z",
     "start_time": "2024-10-10T08:52:46.086361Z"
    }
   },
   "cell_type": "code",
   "source": "Y.retain_grad()",
   "id": "915e3eaf025a6e4e",
   "outputs": [],
   "execution_count": 8
  },
  {
   "metadata": {
    "ExecuteTime": {
     "end_time": "2024-10-10T08:52:46.956488Z",
     "start_time": "2024-10-10T08:52:46.953676Z"
    }
   },
   "cell_type": "code",
   "source": "Z = Y.mean()",
   "id": "7b54fdbe8d7b11da",
   "outputs": [],
   "execution_count": 9
  },
  {
   "metadata": {
    "ExecuteTime": {
     "end_time": "2024-10-10T08:52:47.673805Z",
     "start_time": "2024-10-10T08:52:47.667514Z"
    }
   },
   "cell_type": "code",
   "source": "Z",
   "id": "9760325e49d00592",
   "outputs": [
    {
     "data": {
      "text/plain": [
       "tensor(1.2563, grad_fn=<MeanBackward0>)"
      ]
     },
     "execution_count": 10,
     "metadata": {},
     "output_type": "execute_result"
    }
   ],
   "execution_count": 10
  },
  {
   "metadata": {
    "ExecuteTime": {
     "end_time": "2024-10-10T08:52:48.560318Z",
     "start_time": "2024-10-10T08:52:48.557083Z"
    }
   },
   "cell_type": "code",
   "source": "Z.grad_fn",
   "id": "bc37f9b7d0c3de4e",
   "outputs": [
    {
     "data": {
      "text/plain": [
       "<MeanBackward0 at 0x10c0c2380>"
      ]
     },
     "execution_count": 11,
     "metadata": {},
     "output_type": "execute_result"
    }
   ],
   "execution_count": 11
  },
  {
   "metadata": {
    "ExecuteTime": {
     "end_time": "2024-10-10T08:52:49.731810Z",
     "start_time": "2024-10-10T08:52:49.729241Z"
    }
   },
   "cell_type": "code",
   "source": "Y.grad",
   "id": "7ea00434db1f6dbe",
   "outputs": [],
   "execution_count": 12
  },
  {
   "metadata": {
    "ExecuteTime": {
     "end_time": "2024-10-10T08:53:27.771385Z",
     "start_time": "2024-10-10T08:53:27.769039Z"
    }
   },
   "cell_type": "code",
   "source": "X.grad",
   "id": "578a216554eac3a2",
   "outputs": [],
   "execution_count": 14
  },
  {
   "metadata": {
    "ExecuteTime": {
     "end_time": "2024-10-10T08:54:38.335591Z",
     "start_time": "2024-10-10T08:54:38.315659Z"
    }
   },
   "cell_type": "code",
   "source": "Z.backward()",
   "id": "5589e2e135862b84",
   "outputs": [],
   "execution_count": 15
  },
  {
   "metadata": {
    "ExecuteTime": {
     "end_time": "2024-10-10T08:55:32.905650Z",
     "start_time": "2024-10-10T08:55:32.893652Z"
    }
   },
   "cell_type": "code",
   "source": "X.grad",
   "id": "fcd8ee3a8f5c8234",
   "outputs": [
    {
     "data": {
      "text/plain": [
       "tensor([0.5000, 0.5000, 0.5000, 0.5000])"
      ]
     },
     "execution_count": 16,
     "metadata": {},
     "output_type": "execute_result"
    }
   ],
   "execution_count": 16
  },
  {
   "metadata": {
    "ExecuteTime": {
     "end_time": "2024-10-10T08:55:37.125479Z",
     "start_time": "2024-10-10T08:55:37.121199Z"
    }
   },
   "cell_type": "code",
   "source": "Y.grad",
   "id": "72b328f5a2f96642",
   "outputs": [
    {
     "data": {
      "text/plain": [
       "tensor([0.2500, 0.2500, 0.2500, 0.2500])"
      ]
     },
     "execution_count": 17,
     "metadata": {},
     "output_type": "execute_result"
    }
   ],
   "execution_count": 17
  },
  {
   "metadata": {
    "ExecuteTime": {
     "end_time": "2024-10-10T11:59:57.954121Z",
     "start_time": "2024-10-10T11:59:57.951711Z"
    }
   },
   "cell_type": "code",
   "source": "T = torch.rand(5 , requires_grad=True)",
   "id": "4bf07427a744ade2",
   "outputs": [],
   "execution_count": 20
  },
  {
   "metadata": {
    "ExecuteTime": {
     "end_time": "2024-10-10T12:00:03.532203Z",
     "start_time": "2024-10-10T12:00:03.527406Z"
    }
   },
   "cell_type": "code",
   "source": "X = T ** 2",
   "id": "c0cdeef6bac41116",
   "outputs": [],
   "execution_count": 21
  },
  {
   "metadata": {
    "ExecuteTime": {
     "end_time": "2024-10-10T12:00:16.938083Z",
     "start_time": "2024-10-10T12:00:16.935611Z"
    }
   },
   "cell_type": "code",
   "source": "Y = X ** 2",
   "id": "e5aa9a6cf4d6da17",
   "outputs": [],
   "execution_count": 22
  },
  {
   "metadata": {
    "ExecuteTime": {
     "end_time": "2024-10-10T12:00:21.850550Z",
     "start_time": "2024-10-10T12:00:21.848192Z"
    }
   },
   "cell_type": "code",
   "source": "Z = Y.mean()",
   "id": "22a0ce618a99562",
   "outputs": [],
   "execution_count": 23
  },
  {
   "metadata": {
    "ExecuteTime": {
     "end_time": "2024-10-10T12:01:25.541346Z",
     "start_time": "2024-10-10T12:01:25.535532Z"
    }
   },
   "cell_type": "code",
   "source": [
    "X.retain_grad()\n",
    "Y.retain_grad()"
   ],
   "id": "20495352d35d5b21",
   "outputs": [],
   "execution_count": 24
  },
  {
   "metadata": {
    "ExecuteTime": {
     "end_time": "2024-10-10T12:08:06.254485Z",
     "start_time": "2024-10-10T12:08:06.247957Z"
    }
   },
   "cell_type": "code",
   "source": [
    "print(X.grad)\n",
    "print(Y.grad)\n",
    "\n",
    "print(T.grad)\n"
   ],
   "id": "3bf0c1631f2698c3",
   "outputs": [
    {
     "name": "stdout",
     "output_type": "stream",
     "text": [
      "tensor([0.0585, 0.0037, 0.2868, 0.1642, 0.2435])\n",
      "tensor([0.2000, 0.2000, 0.2000, 0.2000, 0.2000])\n",
      "tensor([0.0448, 0.0007, 0.4858, 0.2105, 0.3799])\n"
     ]
    }
   ],
   "execution_count": 28
  },
  {
   "metadata": {
    "ExecuteTime": {
     "end_time": "2024-10-10T12:02:36.409570Z",
     "start_time": "2024-10-10T12:02:36.404420Z"
    }
   },
   "cell_type": "code",
   "source": "Z.backward()",
   "id": "4aff04c8cb34e284",
   "outputs": [],
   "execution_count": 26
  },
  {
   "metadata": {
    "ExecuteTime": {
     "end_time": "2024-10-10T12:25:50.647081Z",
     "start_time": "2024-10-10T12:25:50.636354Z"
    }
   },
   "cell_type": "code",
   "source": [
    "X = torch.tensor([1.0, 2.0, 3.0, 4.0, 6, 7, 8, 9 , 10], requires_grad=True)\n",
    "Y = torch.tensor([3.0, 6.0, 9.0, 12.0, 18, 21, 24, 27, 30], requires_grad=True)\n",
    "\n",
    "W = torch.tensor([1.0], requires_grad=True)\n",
    "\n",
    "def get_prediction(x):\n",
    "    return W * x\n",
    "\n",
    "def compute_loss(y_pred, y_true):\n",
    "    total_loss = (y_pred - y_true) ** 2\n",
    "    mean_loss = total_loss.mean()\n",
    "    return mean_loss\n",
    "\n",
    "learning_rate = 0.01\n",
    "max_epochs = 100\n",
    "\n",
    "for epoch in range(max_epochs):\n",
    "    y_pred = get_prediction(X)\n",
    "    current_loss = compute_loss(y_pred, Y)\n",
    "    current_loss.backward()\n",
    "    with torch.no_grad():\n",
    "        W -= learning_rate * W.grad\n",
    "\n",
    "    print(f\"Epoch: {epoch}, Loss: {current_loss:.4f} , W Grad: {W.grad.item():.4f}, W: {W.item():.4f}\")\n",
    "    W.grad.zero_()\n",
    "    "
   ],
   "id": "741db98f1ee47901",
   "outputs": [
    {
     "name": "stdout",
     "output_type": "stream",
     "text": [
      "Epoch: 0, Loss: 160.0000 , W Grad: -160.0000, W: 2.6000\n",
      "Epoch: 1, Loss: 6.4000 , W Grad: -32.0000, W: 2.9200\n",
      "Epoch: 2, Loss: 0.2560 , W Grad: -6.4000, W: 2.9840\n",
      "Epoch: 3, Loss: 0.0102 , W Grad: -1.2800, W: 2.9968\n",
      "Epoch: 4, Loss: 0.0004 , W Grad: -0.2560, W: 2.9994\n",
      "Epoch: 5, Loss: 0.0000 , W Grad: -0.0512, W: 2.9999\n",
      "Epoch: 6, Loss: 0.0000 , W Grad: -0.0102, W: 3.0000\n",
      "Epoch: 7, Loss: 0.0000 , W Grad: -0.0020, W: 3.0000\n",
      "Epoch: 8, Loss: 0.0000 , W Grad: -0.0004, W: 3.0000\n",
      "Epoch: 9, Loss: 0.0000 , W Grad: -0.0001, W: 3.0000\n",
      "Epoch: 10, Loss: 0.0000 , W Grad: -0.0000, W: 3.0000\n",
      "Epoch: 11, Loss: 0.0000 , W Grad: 0.0000, W: 3.0000\n",
      "Epoch: 12, Loss: 0.0000 , W Grad: 0.0000, W: 3.0000\n",
      "Epoch: 13, Loss: 0.0000 , W Grad: 0.0000, W: 3.0000\n",
      "Epoch: 14, Loss: 0.0000 , W Grad: 0.0000, W: 3.0000\n",
      "Epoch: 15, Loss: 0.0000 , W Grad: 0.0000, W: 3.0000\n",
      "Epoch: 16, Loss: 0.0000 , W Grad: 0.0000, W: 3.0000\n",
      "Epoch: 17, Loss: 0.0000 , W Grad: 0.0000, W: 3.0000\n",
      "Epoch: 18, Loss: 0.0000 , W Grad: 0.0000, W: 3.0000\n",
      "Epoch: 19, Loss: 0.0000 , W Grad: 0.0000, W: 3.0000\n",
      "Epoch: 20, Loss: 0.0000 , W Grad: 0.0000, W: 3.0000\n",
      "Epoch: 21, Loss: 0.0000 , W Grad: 0.0000, W: 3.0000\n",
      "Epoch: 22, Loss: 0.0000 , W Grad: 0.0000, W: 3.0000\n",
      "Epoch: 23, Loss: 0.0000 , W Grad: 0.0000, W: 3.0000\n",
      "Epoch: 24, Loss: 0.0000 , W Grad: 0.0000, W: 3.0000\n",
      "Epoch: 25, Loss: 0.0000 , W Grad: 0.0000, W: 3.0000\n",
      "Epoch: 26, Loss: 0.0000 , W Grad: 0.0000, W: 3.0000\n",
      "Epoch: 27, Loss: 0.0000 , W Grad: 0.0000, W: 3.0000\n",
      "Epoch: 28, Loss: 0.0000 , W Grad: 0.0000, W: 3.0000\n",
      "Epoch: 29, Loss: 0.0000 , W Grad: 0.0000, W: 3.0000\n",
      "Epoch: 30, Loss: 0.0000 , W Grad: 0.0000, W: 3.0000\n",
      "Epoch: 31, Loss: 0.0000 , W Grad: 0.0000, W: 3.0000\n",
      "Epoch: 32, Loss: 0.0000 , W Grad: 0.0000, W: 3.0000\n",
      "Epoch: 33, Loss: 0.0000 , W Grad: 0.0000, W: 3.0000\n",
      "Epoch: 34, Loss: 0.0000 , W Grad: 0.0000, W: 3.0000\n",
      "Epoch: 35, Loss: 0.0000 , W Grad: 0.0000, W: 3.0000\n",
      "Epoch: 36, Loss: 0.0000 , W Grad: 0.0000, W: 3.0000\n",
      "Epoch: 37, Loss: 0.0000 , W Grad: 0.0000, W: 3.0000\n",
      "Epoch: 38, Loss: 0.0000 , W Grad: 0.0000, W: 3.0000\n",
      "Epoch: 39, Loss: 0.0000 , W Grad: 0.0000, W: 3.0000\n",
      "Epoch: 40, Loss: 0.0000 , W Grad: 0.0000, W: 3.0000\n",
      "Epoch: 41, Loss: 0.0000 , W Grad: 0.0000, W: 3.0000\n",
      "Epoch: 42, Loss: 0.0000 , W Grad: 0.0000, W: 3.0000\n",
      "Epoch: 43, Loss: 0.0000 , W Grad: 0.0000, W: 3.0000\n",
      "Epoch: 44, Loss: 0.0000 , W Grad: 0.0000, W: 3.0000\n",
      "Epoch: 45, Loss: 0.0000 , W Grad: 0.0000, W: 3.0000\n",
      "Epoch: 46, Loss: 0.0000 , W Grad: 0.0000, W: 3.0000\n",
      "Epoch: 47, Loss: 0.0000 , W Grad: 0.0000, W: 3.0000\n",
      "Epoch: 48, Loss: 0.0000 , W Grad: 0.0000, W: 3.0000\n",
      "Epoch: 49, Loss: 0.0000 , W Grad: 0.0000, W: 3.0000\n",
      "Epoch: 50, Loss: 0.0000 , W Grad: 0.0000, W: 3.0000\n",
      "Epoch: 51, Loss: 0.0000 , W Grad: 0.0000, W: 3.0000\n",
      "Epoch: 52, Loss: 0.0000 , W Grad: 0.0000, W: 3.0000\n",
      "Epoch: 53, Loss: 0.0000 , W Grad: 0.0000, W: 3.0000\n",
      "Epoch: 54, Loss: 0.0000 , W Grad: 0.0000, W: 3.0000\n",
      "Epoch: 55, Loss: 0.0000 , W Grad: 0.0000, W: 3.0000\n",
      "Epoch: 56, Loss: 0.0000 , W Grad: 0.0000, W: 3.0000\n",
      "Epoch: 57, Loss: 0.0000 , W Grad: 0.0000, W: 3.0000\n",
      "Epoch: 58, Loss: 0.0000 , W Grad: 0.0000, W: 3.0000\n",
      "Epoch: 59, Loss: 0.0000 , W Grad: 0.0000, W: 3.0000\n",
      "Epoch: 60, Loss: 0.0000 , W Grad: 0.0000, W: 3.0000\n",
      "Epoch: 61, Loss: 0.0000 , W Grad: 0.0000, W: 3.0000\n",
      "Epoch: 62, Loss: 0.0000 , W Grad: 0.0000, W: 3.0000\n",
      "Epoch: 63, Loss: 0.0000 , W Grad: 0.0000, W: 3.0000\n",
      "Epoch: 64, Loss: 0.0000 , W Grad: 0.0000, W: 3.0000\n",
      "Epoch: 65, Loss: 0.0000 , W Grad: 0.0000, W: 3.0000\n",
      "Epoch: 66, Loss: 0.0000 , W Grad: 0.0000, W: 3.0000\n",
      "Epoch: 67, Loss: 0.0000 , W Grad: 0.0000, W: 3.0000\n",
      "Epoch: 68, Loss: 0.0000 , W Grad: 0.0000, W: 3.0000\n",
      "Epoch: 69, Loss: 0.0000 , W Grad: 0.0000, W: 3.0000\n",
      "Epoch: 70, Loss: 0.0000 , W Grad: 0.0000, W: 3.0000\n",
      "Epoch: 71, Loss: 0.0000 , W Grad: 0.0000, W: 3.0000\n",
      "Epoch: 72, Loss: 0.0000 , W Grad: 0.0000, W: 3.0000\n",
      "Epoch: 73, Loss: 0.0000 , W Grad: 0.0000, W: 3.0000\n",
      "Epoch: 74, Loss: 0.0000 , W Grad: 0.0000, W: 3.0000\n",
      "Epoch: 75, Loss: 0.0000 , W Grad: 0.0000, W: 3.0000\n",
      "Epoch: 76, Loss: 0.0000 , W Grad: 0.0000, W: 3.0000\n",
      "Epoch: 77, Loss: 0.0000 , W Grad: 0.0000, W: 3.0000\n",
      "Epoch: 78, Loss: 0.0000 , W Grad: 0.0000, W: 3.0000\n",
      "Epoch: 79, Loss: 0.0000 , W Grad: 0.0000, W: 3.0000\n",
      "Epoch: 80, Loss: 0.0000 , W Grad: 0.0000, W: 3.0000\n",
      "Epoch: 81, Loss: 0.0000 , W Grad: 0.0000, W: 3.0000\n",
      "Epoch: 82, Loss: 0.0000 , W Grad: 0.0000, W: 3.0000\n",
      "Epoch: 83, Loss: 0.0000 , W Grad: 0.0000, W: 3.0000\n",
      "Epoch: 84, Loss: 0.0000 , W Grad: 0.0000, W: 3.0000\n",
      "Epoch: 85, Loss: 0.0000 , W Grad: 0.0000, W: 3.0000\n",
      "Epoch: 86, Loss: 0.0000 , W Grad: 0.0000, W: 3.0000\n",
      "Epoch: 87, Loss: 0.0000 , W Grad: 0.0000, W: 3.0000\n",
      "Epoch: 88, Loss: 0.0000 , W Grad: 0.0000, W: 3.0000\n",
      "Epoch: 89, Loss: 0.0000 , W Grad: 0.0000, W: 3.0000\n",
      "Epoch: 90, Loss: 0.0000 , W Grad: 0.0000, W: 3.0000\n",
      "Epoch: 91, Loss: 0.0000 , W Grad: 0.0000, W: 3.0000\n",
      "Epoch: 92, Loss: 0.0000 , W Grad: 0.0000, W: 3.0000\n",
      "Epoch: 93, Loss: 0.0000 , W Grad: 0.0000, W: 3.0000\n",
      "Epoch: 94, Loss: 0.0000 , W Grad: 0.0000, W: 3.0000\n",
      "Epoch: 95, Loss: 0.0000 , W Grad: 0.0000, W: 3.0000\n",
      "Epoch: 96, Loss: 0.0000 , W Grad: 0.0000, W: 3.0000\n",
      "Epoch: 97, Loss: 0.0000 , W Grad: 0.0000, W: 3.0000\n",
      "Epoch: 98, Loss: 0.0000 , W Grad: 0.0000, W: 3.0000\n",
      "Epoch: 99, Loss: 0.0000 , W Grad: 0.0000, W: 3.0000\n"
     ]
    }
   ],
   "execution_count": 34
  },
  {
   "metadata": {
    "ExecuteTime": {
     "end_time": "2024-10-10T12:25:52.107788Z",
     "start_time": "2024-10-10T12:25:52.105340Z"
    }
   },
   "cell_type": "code",
   "source": [
    "import torch\n",
    "import torch.nn as nn"
   ],
   "id": "8cbfc76b90e32f86",
   "outputs": [],
   "execution_count": 35
  },
  {
   "metadata": {
    "ExecuteTime": {
     "end_time": "2024-10-10T12:27:00.291206Z",
     "start_time": "2024-10-10T12:27:00.286665Z"
    }
   },
   "cell_type": "code",
   "source": [
    "X = torch.tensor([[1.0], [2.0], [3.0], [4.0], [6], [7], [8], [9] , [10]], requires_grad=True)\n",
    "Y = torch.tensor([[3.0], [6.0], [9.0], [12.0], [18], [21], [24], [27], [30]], requires_grad=True)\n",
    "\n",
    "n, nb_features = X.shape"
   ],
   "id": "7649a522514aacf0",
   "outputs": [],
   "execution_count": 36
  },
  {
   "metadata": {
    "ExecuteTime": {
     "end_time": "2024-10-10T14:30:09.950452Z",
     "start_time": "2024-10-10T14:30:09.931887Z"
    }
   },
   "cell_type": "code",
   "source": "X_test = torch.tensor([[100.0]], requires_grad=True)",
   "id": "1ef822933f5b14a2",
   "outputs": [],
   "execution_count": 37
  },
  {
   "metadata": {
    "ExecuteTime": {
     "end_time": "2024-10-10T14:30:45.928290Z",
     "start_time": "2024-10-10T14:30:45.925690Z"
    }
   },
   "cell_type": "code",
   "source": [
    "train_data = n\n",
    "y = nb_features"
   ],
   "id": "8d802ff45cc6c922",
   "outputs": [],
   "execution_count": 38
  },
  {
   "metadata": {
    "ExecuteTime": {
     "end_time": "2024-10-10T14:31:18.815477Z",
     "start_time": "2024-10-10T14:31:18.812561Z"
    }
   },
   "cell_type": "code",
   "source": [
    "class LinearRegression(nn.Module):\n",
    "    def __init__(self, input_dim, output_dim):\n",
    "        super(LinearRegression, self).__init__()\n",
    "        self.lin = nn.Linear(input_dim, output_dim)\n",
    "    \n",
    "    def forward(self, x):\n",
    "        return self.lin(x)"
   ],
   "id": "68c80e057d2c59ec",
   "outputs": [],
   "execution_count": 39
  },
  {
   "metadata": {
    "ExecuteTime": {
     "end_time": "2024-10-10T14:31:45.791486Z",
     "start_time": "2024-10-10T14:31:45.781031Z"
    }
   },
   "cell_type": "code",
   "source": [
    "input_dim , output_dim = nb_features, nb_features\n",
    "model = LinearRegression(input_dim, output_dim)"
   ],
   "id": "216148173fae322f",
   "outputs": [],
   "execution_count": 40
  },
  {
   "metadata": {
    "ExecuteTime": {
     "end_time": "2024-10-10T14:39:04.150221Z",
     "start_time": "2024-10-10T14:39:04.147438Z"
    }
   },
   "cell_type": "code",
   "source": [
    "learning_rate = 0.01\n",
    "max_epochs = 200\n",
    "loss = nn.MSELoss()\n",
    "optimizer = torch.optim.SGD(model.parameters(), lr=learning_rate)"
   ],
   "id": "f6577da8d6be7ccf",
   "outputs": [],
   "execution_count": 44
  },
  {
   "metadata": {
    "ExecuteTime": {
     "end_time": "2024-10-10T14:39:05.557419Z",
     "start_time": "2024-10-10T14:39:05.532725Z"
    }
   },
   "cell_type": "code",
   "source": [
    "for epoch in range(max_epochs):\n",
    "    y_pred = model(X)\n",
    "    current_loss = loss(y_pred, Y)\n",
    "    current_loss.backward()\n",
    "    optimizer.step()\n",
    "    optimizer.zero_grad()\n",
    "    \n",
    "    if epoch % 10 == 0:\n",
    "        w,b = model.parameters()\n",
    "        print(f\"Epoch: {epoch}, Loss: {current_loss:.4f}, W: {w.item(): .3f}, B: {b.item()}\")"
   ],
   "id": "367640fff08d852d",
   "outputs": [
    {
     "name": "stdout",
     "output_type": "stream",
     "text": [
      "Epoch: 0, Loss: 0.0105, W:  3.030, B: -0.2132243514060974\n",
      "Epoch: 10, Loss: 0.0096, W:  3.028, B: -0.20386017858982086\n",
      "Epoch: 20, Loss: 0.0088, W:  3.027, B: -0.1949073076248169\n",
      "Epoch: 30, Loss: 0.0080, W:  3.026, B: -0.18634767830371857\n",
      "Epoch: 40, Loss: 0.0073, W:  3.025, B: -0.17816385626792908\n",
      "Epoch: 50, Loss: 0.0067, W:  3.024, B: -0.17033948004245758\n",
      "Epoch: 60, Loss: 0.0061, W:  3.023, B: -0.16285869479179382\n",
      "Epoch: 70, Loss: 0.0056, W:  3.022, B: -0.15570642054080963\n",
      "Epoch: 80, Loss: 0.0051, W:  3.021, B: -0.14886829257011414\n",
      "Epoch: 90, Loss: 0.0047, W:  3.020, B: -0.14233051240444183\n",
      "Epoch: 100, Loss: 0.0043, W:  3.019, B: -0.1360798180103302\n",
      "Epoch: 110, Loss: 0.0039, W:  3.018, B: -0.1301036924123764\n",
      "Epoch: 120, Loss: 0.0036, W:  3.017, B: -0.12438992410898209\n",
      "Epoch: 130, Loss: 0.0033, W:  3.017, B: -0.11892707645893097\n",
      "Epoch: 140, Loss: 0.0030, W:  3.016, B: -0.113704152405262\n",
      "Epoch: 150, Loss: 0.0027, W:  3.015, B: -0.10871060937643051\n",
      "Epoch: 160, Loss: 0.0025, W:  3.015, B: -0.10393636673688889\n",
      "Epoch: 170, Loss: 0.0023, W:  3.014, B: -0.09937179088592529\n",
      "Epoch: 180, Loss: 0.0021, W:  3.013, B: -0.09500772505998611\n",
      "Epoch: 190, Loss: 0.0019, W:  3.013, B: -0.09083530306816101\n"
     ]
    }
   ],
   "execution_count": 45
  },
  {
   "metadata": {
    "ExecuteTime": {
     "end_time": "2024-10-10T14:41:34.264386Z",
     "start_time": "2024-10-10T14:41:32.845227Z"
    }
   },
   "cell_type": "code",
   "source": [
    "import matplotlib.pyplot as plt\n",
    "import torchvision\n",
    "import torchvision.transforms as transforms"
   ],
   "id": "24b97ba6f00b074b",
   "outputs": [],
   "execution_count": 46
  },
  {
   "metadata": {
    "ExecuteTime": {
     "end_time": "2024-10-10T14:41:53.613176Z",
     "start_time": "2024-10-10T14:41:53.610118Z"
    }
   },
   "cell_type": "code",
   "source": "device = torch.device('cuda' if torch.cuda.is_available() else 'cpu')",
   "id": "7eb3b50a641ca993",
   "outputs": [],
   "execution_count": 47
  },
  {
   "metadata": {
    "ExecuteTime": {
     "end_time": "2024-10-10T14:43:31.839931Z",
     "start_time": "2024-10-10T14:43:31.826243Z"
    }
   },
   "cell_type": "code",
   "source": [
    "# image size 28 x 28\n",
    "nb_classes = 10\n",
    "batch_size = 100\n",
    "epochs = 2"
   ],
   "id": "694189291e796e72",
   "outputs": [],
   "execution_count": 48
  },
  {
   "metadata": {
    "ExecuteTime": {
     "end_time": "2024-10-10T14:44:42.310468Z",
     "start_time": "2024-10-10T14:44:22.956218Z"
    }
   },
   "cell_type": "code",
   "source": [
    "x_train =torchvision.datasets.MNIST(root='./data', train=True, download=True, transform=transforms.ToTensor())\n",
    "x_test = torchvision.datasets.MNIST(root='./data', train=False, download=True, transform=transforms.ToTensor())"
   ],
   "id": "36f1d6e85764f7a3",
   "outputs": [
    {
     "name": "stdout",
     "output_type": "stream",
     "text": [
      "Downloading http://yann.lecun.com/exdb/mnist/train-images-idx3-ubyte.gz\n",
      "Failed to download (trying next):\n",
      "HTTP Error 403: Forbidden\n",
      "\n",
      "Downloading https://ossci-datasets.s3.amazonaws.com/mnist/train-images-idx3-ubyte.gz\n",
      "Downloading https://ossci-datasets.s3.amazonaws.com/mnist/train-images-idx3-ubyte.gz to ./data/MNIST/raw/train-images-idx3-ubyte.gz\n"
     ]
    },
    {
     "name": "stderr",
     "output_type": "stream",
     "text": [
      "100.0%\n"
     ]
    },
    {
     "name": "stdout",
     "output_type": "stream",
     "text": [
      "Extracting ./data/MNIST/raw/train-images-idx3-ubyte.gz to ./data/MNIST/raw\n",
      "\n",
      "Downloading http://yann.lecun.com/exdb/mnist/train-labels-idx1-ubyte.gz\n",
      "Failed to download (trying next):\n",
      "HTTP Error 403: Forbidden\n",
      "\n",
      "Downloading https://ossci-datasets.s3.amazonaws.com/mnist/train-labels-idx1-ubyte.gz\n",
      "Downloading https://ossci-datasets.s3.amazonaws.com/mnist/train-labels-idx1-ubyte.gz to ./data/MNIST/raw/train-labels-idx1-ubyte.gz\n"
     ]
    },
    {
     "name": "stderr",
     "output_type": "stream",
     "text": [
      "100.0%\n"
     ]
    },
    {
     "name": "stdout",
     "output_type": "stream",
     "text": [
      "Extracting ./data/MNIST/raw/train-labels-idx1-ubyte.gz to ./data/MNIST/raw\n",
      "\n",
      "Downloading http://yann.lecun.com/exdb/mnist/t10k-images-idx3-ubyte.gz\n",
      "Failed to download (trying next):\n",
      "HTTP Error 403: Forbidden\n",
      "\n",
      "Downloading https://ossci-datasets.s3.amazonaws.com/mnist/t10k-images-idx3-ubyte.gz\n",
      "Downloading https://ossci-datasets.s3.amazonaws.com/mnist/t10k-images-idx3-ubyte.gz to ./data/MNIST/raw/t10k-images-idx3-ubyte.gz\n"
     ]
    },
    {
     "name": "stderr",
     "output_type": "stream",
     "text": [
      "100.0%\n"
     ]
    },
    {
     "name": "stdout",
     "output_type": "stream",
     "text": [
      "Extracting ./data/MNIST/raw/t10k-images-idx3-ubyte.gz to ./data/MNIST/raw\n",
      "\n",
      "Downloading http://yann.lecun.com/exdb/mnist/t10k-labels-idx1-ubyte.gz\n",
      "Failed to download (trying next):\n",
      "HTTP Error 403: Forbidden\n",
      "\n",
      "Downloading https://ossci-datasets.s3.amazonaws.com/mnist/t10k-labels-idx1-ubyte.gz\n",
      "Downloading https://ossci-datasets.s3.amazonaws.com/mnist/t10k-labels-idx1-ubyte.gz to ./data/MNIST/raw/t10k-labels-idx1-ubyte.gz\n"
     ]
    },
    {
     "name": "stderr",
     "output_type": "stream",
     "text": [
      "100.0%"
     ]
    },
    {
     "name": "stdout",
     "output_type": "stream",
     "text": [
      "Extracting ./data/MNIST/raw/t10k-labels-idx1-ubyte.gz to ./data/MNIST/raw\n",
      "\n"
     ]
    },
    {
     "name": "stderr",
     "output_type": "stream",
     "text": [
      "\n"
     ]
    }
   ],
   "execution_count": 49
  },
  {
   "metadata": {
    "ExecuteTime": {
     "end_time": "2024-10-10T14:45:18.176957Z",
     "start_time": "2024-10-10T14:45:18.171685Z"
    }
   },
   "cell_type": "code",
   "source": "train_loader = torch.utils.data.DataLoader(dataset=x_train, batch_size=batch_size, shuffle=True)",
   "id": "36c18af9d6b0f86b",
   "outputs": [],
   "execution_count": 50
  },
  {
   "metadata": {
    "ExecuteTime": {
     "end_time": "2024-10-10T14:45:35.551615Z",
     "start_time": "2024-10-10T14:45:35.548017Z"
    }
   },
   "cell_type": "code",
   "source": "x_test_loader = torch.utils.data.DataLoader(dataset=x_test, batch_size=batch_size, shuffle=False)",
   "id": "dfba417377041f9f",
   "outputs": [],
   "execution_count": 51
  },
  {
   "metadata": {
    "ExecuteTime": {
     "end_time": "2024-10-10T14:45:42.708154Z",
     "start_time": "2024-10-10T14:45:42.702809Z"
    }
   },
   "cell_type": "code",
   "source": "examples = iter(train_loader)",
   "id": "7de15ef19dde374f",
   "outputs": [],
   "execution_count": 52
  },
  {
   "metadata": {
    "ExecuteTime": {
     "end_time": "2024-10-10T14:46:44.434784Z",
     "start_time": "2024-10-10T14:46:44.421036Z"
    }
   },
   "cell_type": "code",
   "source": "images, labels = next(examples)",
   "id": "8ce8fdae7ff766b1",
   "outputs": [],
   "execution_count": 54
  },
  {
   "metadata": {
    "ExecuteTime": {
     "end_time": "2024-10-10T14:46:58.289098Z",
     "start_time": "2024-10-10T14:46:58.021363Z"
    }
   },
   "cell_type": "code",
   "source": [
    "for i in range(6):\n",
    "    plt.subplot(2, 3, i+1)\n",
    "    plt.imshow(images[i][0], cmap='gray')\n",
    "    \n",
    "plt.show()"
   ],
   "id": "ada27d5c6d9a47c9",
   "outputs": [
    {
     "data": {
      "text/plain": [
       "<Figure size 640x480 with 6 Axes>"
      ],
      "image/png": "[encoded data removed]"
     },
     "metadata": {},
     "output_type": "display_data"
    }
   ],
   "execution_count": 55
  },
  {
   "metadata": {
    "ExecuteTime": {
     "end_time": "2024-10-10T14:50:07.556620Z",
     "start_time": "2024-10-10T14:50:07.550433Z"
    }
   },
   "cell_type": "code",
   "source": [
    "class SimpleNN(nn.Module):\n",
    "    def __init__(self, nb_classes):\n",
    "        super(SimpleNN, self).__init__()\n",
    "        self.fc1 = nn.Linear(784, 500)\n",
    "        self.relu = nn.ReLU()\n",
    "        self.fc2 = nn.Linear(500, nb_classes)\n",
    "        \n",
    "    def forward(self, x):\n",
    "        out = self.fc1(x)\n",
    "        out = self.relu(out)\n",
    "        out = self.fc2(out)\n",
    "        return out"
   ],
   "id": "201808dfb89ed6a2",
   "outputs": [],
   "execution_count": 56
  },
  {
   "metadata": {
    "ExecuteTime": {
     "end_time": "2024-10-10T14:51:14.716443Z",
     "start_time": "2024-10-10T14:51:14.707317Z"
    }
   },
   "cell_type": "code",
   "source": "simple_nn = SimpleNN(nb_classes).to(device)",
   "id": "4a5808087b9efcea",
   "outputs": [],
   "execution_count": 57
  },
  {
   "metadata": {
    "ExecuteTime": {
     "end_time": "2024-10-10T14:52:04.864335Z",
     "start_time": "2024-10-10T14:52:04.858302Z"
    }
   },
   "cell_type": "code",
   "source": [
    "loss = nn.CrossEntropyLoss()\n",
    "optimizer = torch.optim.Adam(simple_nn.parameters(), lr=0.01)\n",
    "nb_images = len(train_loader)"
   ],
   "id": "f9fb37f8b47996dc",
   "outputs": [],
   "execution_count": 58
  },
  {
   "metadata": {
    "ExecuteTime": {
     "end_time": "2024-10-10T14:54:08.909217Z",
     "start_time": "2024-10-10T14:54:05.121862Z"
    }
   },
   "cell_type": "code",
   "source": [
    "for epoch in range(epochs):\n",
    "    for i, (images, labels) in enumerate(train_loader):\n",
    "        images = images.view(-1, 28*28).to(device)\n",
    "        labels = labels.to(device)\n",
    "        \n",
    "        \n",
    "        outputs = simple_nn(images)\n",
    "        current_loss = loss(outputs, labels)\n",
    "        current_loss.backward()\n",
    "        optimizer.step()\n",
    "        optimizer.zero_grad()\n",
    "        \n",
    "        if (i+1) % 100 == 0:\n",
    "            print(f\"Epoch: {epoch}, Batch: {i+1}/{nb_images}, Loss: {current_loss.item()}\")"
   ],
   "id": "e9b5ac1ff9432e7c",
   "outputs": [
    {
     "name": "stdout",
     "output_type": "stream",
     "text": [
      "Epoch: 0, Batch: 100/600, Loss: 0.3506682515144348\n",
      "Epoch: 0, Batch: 200/600, Loss: 0.20977267622947693\n",
      "Epoch: 0, Batch: 300/600, Loss: 0.21517015993595123\n",
      "Epoch: 0, Batch: 400/600, Loss: 0.18938155472278595\n",
      "Epoch: 0, Batch: 500/600, Loss: 0.15026728808879852\n",
      "Epoch: 0, Batch: 600/600, Loss: 0.025067990645766258\n",
      "Epoch: 1, Batch: 100/600, Loss: 0.040147460997104645\n",
      "Epoch: 1, Batch: 200/600, Loss: 0.1178661659359932\n",
      "Epoch: 1, Batch: 300/600, Loss: 0.15396419167518616\n",
      "Epoch: 1, Batch: 400/600, Loss: 0.07707914710044861\n",
      "Epoch: 1, Batch: 500/600, Loss: 0.08131438493728638\n",
      "Epoch: 1, Batch: 600/600, Loss: 0.12119735777378082\n"
     ]
    }
   ],
   "execution_count": 59
  },
  {
   "metadata": {
    "ExecuteTime": {
     "end_time": "2024-10-10T14:54:32.858061Z",
     "start_time": "2024-10-10T14:54:32.637843Z"
    }
   },
   "cell_type": "code",
   "source": [
    "with torch.no_grad():\n",
    "    correct = 0\n",
    "    total = 0\n",
    "    for images, labels in x_test_loader:\n",
    "        images = images.view(-1, 28*28).to(device)\n",
    "        labels = labels.to(device)\n",
    "        \n",
    "        outputs = simple_nn(images)\n",
    "        _, predicted = torch.max(outputs.data, 1)\n",
    "        total += labels.size(0)\n",
    "        correct += (predicted == labels).sum().item()\n",
    "        \n",
    "    print(f\"Accuracy: {100 * correct/total}\")"
   ],
   "id": "25d7f7759664c2ad",
   "outputs": [
    {
     "name": "stdout",
     "output_type": "stream",
     "text": [
      "Accuracy: 96.18\n"
     ]
    }
   ],
   "execution_count": 60
  },
  {
   "metadata": {},
   "cell_type": "code",
   "outputs": [],
   "execution_count": null,
   "source": "",
   "id": "e43a24b5d8956113"
  }
 ],
 "metadata": {
  "kernelspec": {
   "display_name": "Python 3",
   "language": "python",
   "name": "python3"
  },
  "language_info": {
   "codemirror_mode": {
    "name": "ipython",
    "version": 2
   },
   "file_extension": ".py",
   "mimetype": "text/x-python",
   "name": "python",
   "nbconvert_exporter": "python",
   "pygments_lexer": "ipython2",
   "version": "2.7.6"
  }
 },
 "nbformat": 4,
 "nbformat_minor": 5
}
