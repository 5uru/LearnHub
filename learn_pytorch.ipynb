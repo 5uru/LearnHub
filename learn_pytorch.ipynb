{
 "cells": [
  {
   "cell_type": "code",
   "id": "initial_id",
   "metadata": {
    "collapsed": true,
    "ExecuteTime": {
     "end_time": "2024-10-08T18:23:19.585638Z",
     "start_time": "2024-10-08T18:23:18.792912Z"
    }
   },
   "source": "import torch",
   "outputs": [],
   "execution_count": 1
  },
  {
   "metadata": {
    "ExecuteTime": {
     "end_time": "2024-10-08T18:23:19.600160Z",
     "start_time": "2024-10-08T18:23:19.597690Z"
    }
   },
   "cell_type": "code",
   "source": "print(f\"torch version: {torch.__version__}\")",
   "id": "291aedf6dff77e3c",
   "outputs": [
    {
     "name": "stdout",
     "output_type": "stream",
     "text": [
      "torch version: 2.4.1\n"
     ]
    }
   ],
   "execution_count": 2
  },
  {
   "metadata": {
    "ExecuteTime": {
     "end_time": "2024-10-08T18:23:52.133772Z",
     "start_time": "2024-10-08T18:23:52.119235Z"
    }
   },
   "cell_type": "code",
   "source": [
    "a1 = torch.empty(1)\n",
    "print(a1)"
   ],
   "id": "be97870d98a49346",
   "outputs": [
    {
     "name": "stdout",
     "output_type": "stream",
     "text": [
      "tensor([0.])\n"
     ]
    }
   ],
   "execution_count": 3
  },
  {
   "metadata": {
    "ExecuteTime": {
     "end_time": "2024-10-08T18:24:31.876430Z",
     "start_time": "2024-10-08T18:24:31.872310Z"
    }
   },
   "cell_type": "code",
   "source": [
    "a2 = torch.empty(2)\n",
    "print(a2)"
   ],
   "id": "5785056d2043d9c",
   "outputs": [
    {
     "name": "stdout",
     "output_type": "stream",
     "text": [
      "tensor([0., 0.])\n"
     ]
    }
   ],
   "execution_count": 5
  },
  {
   "metadata": {
    "ExecuteTime": {
     "end_time": "2024-10-08T18:25:45.779838Z",
     "start_time": "2024-10-08T18:25:45.775413Z"
    }
   },
   "cell_type": "code",
   "source": [
    "a3 = torch.empty(2, 3)\n",
    "print(a3)"
   ],
   "id": "1e8ce71a8e813827",
   "outputs": [
    {
     "name": "stdout",
     "output_type": "stream",
     "text": [
      "tensor([[0., 0., 0.],\n",
      "        [0., 0., 0.]])\n"
     ]
    }
   ],
   "execution_count": 6
  },
  {
   "metadata": {
    "ExecuteTime": {
     "end_time": "2024-10-08T18:28:46.294556Z",
     "start_time": "2024-10-08T18:28:46.289493Z"
    }
   },
   "cell_type": "code",
   "source": [
    "a4 = torch.rand(2, 2)\n",
    "print(a4)"
   ],
   "id": "c60c71ea6b25a8b2",
   "outputs": [
    {
     "name": "stdout",
     "output_type": "stream",
     "text": [
      "tensor([[0.0099, 0.2755],\n",
      "        [0.5480, 0.1122]])\n"
     ]
    }
   ],
   "execution_count": 8
  },
  {
   "metadata": {
    "ExecuteTime": {
     "end_time": "2024-10-08T18:30:21.959681Z",
     "start_time": "2024-10-08T18:30:21.955123Z"
    }
   },
   "cell_type": "code",
   "source": [
    "a5 = torch.zeros(3)\n",
    "print(a5)"
   ],
   "id": "70bebbd3d4c62f81",
   "outputs": [
    {
     "name": "stdout",
     "output_type": "stream",
     "text": [
      "tensor([0., 0., 0.])\n"
     ]
    }
   ],
   "execution_count": 11
  },
  {
   "metadata": {
    "ExecuteTime": {
     "end_time": "2024-10-08T18:31:11.104521Z",
     "start_time": "2024-10-08T18:31:11.101458Z"
    }
   },
   "cell_type": "code",
   "source": [
    "a7 = torch.ones(3)\n",
    "print(a7)"
   ],
   "id": "bfee742a69952010",
   "outputs": [
    {
     "name": "stdout",
     "output_type": "stream",
     "text": [
      "tensor([1., 1., 1.])\n"
     ]
    }
   ],
   "execution_count": 14
  },
  {
   "metadata": {
    "ExecuteTime": {
     "end_time": "2024-10-08T18:33:35.810153Z",
     "start_time": "2024-10-08T18:33:35.803094Z"
    }
   },
   "cell_type": "code",
   "source": [
    "a1 = torch.ones(2, 3)\n",
    "print(a1)"
   ],
   "id": "86a6053532b91c9e",
   "outputs": [
    {
     "name": "stdout",
     "output_type": "stream",
     "text": [
      "tensor([[1., 1., 1.],\n",
      "        [1., 1., 1.]])\n"
     ]
    }
   ],
   "execution_count": 15
  },
  {
   "metadata": {
    "ExecuteTime": {
     "end_time": "2024-10-08T18:34:07.132916Z",
     "start_time": "2024-10-08T18:34:07.126598Z"
    }
   },
   "cell_type": "code",
   "source": "a1.size()",
   "id": "f7e594e3ad4662ee",
   "outputs": [
    {
     "data": {
      "text/plain": [
       "torch.Size([2, 3])"
      ]
     },
     "execution_count": 17,
     "metadata": {},
     "output_type": "execute_result"
    }
   ],
   "execution_count": 17
  },
  {
   "metadata": {
    "ExecuteTime": {
     "end_time": "2024-10-08T18:34:42.857284Z",
     "start_time": "2024-10-08T18:34:42.853396Z"
    }
   },
   "cell_type": "code",
   "source": "a1.shape",
   "id": "cc27224f63d68e84",
   "outputs": [
    {
     "data": {
      "text/plain": [
       "torch.Size([2, 3])"
      ]
     },
     "execution_count": 21,
     "metadata": {},
     "output_type": "execute_result"
    }
   ],
   "execution_count": 21
  },
  {
   "metadata": {
    "ExecuteTime": {
     "end_time": "2024-10-08T18:35:20.792762Z",
     "start_time": "2024-10-08T18:35:20.789639Z"
    }
   },
   "cell_type": "code",
   "source": "a1.dtype",
   "id": "af9a4d405b3f5b3c",
   "outputs": [
    {
     "data": {
      "text/plain": [
       "torch.float32"
      ]
     },
     "execution_count": 22,
     "metadata": {},
     "output_type": "execute_result"
    }
   ],
   "execution_count": 22
  },
  {
   "metadata": {
    "ExecuteTime": {
     "end_time": "2024-10-08T18:37:17.405012Z",
     "start_time": "2024-10-08T18:37:17.402105Z"
    }
   },
   "cell_type": "code",
   "source": "a2 = torch.ones(2, 3, dtype=torch.float16)",
   "id": "a30ee99fb50e4bdb",
   "outputs": [],
   "execution_count": 23
  },
  {
   "metadata": {
    "ExecuteTime": {
     "end_time": "2024-10-08T18:37:19.437031Z",
     "start_time": "2024-10-08T18:37:19.434373Z"
    }
   },
   "cell_type": "code",
   "source": "a2.dtype",
   "id": "f1ad47cff92632d9",
   "outputs": [
    {
     "data": {
      "text/plain": [
       "torch.float16"
      ]
     },
     "execution_count": 24,
     "metadata": {},
     "output_type": "execute_result"
    }
   ],
   "execution_count": 24
  },
  {
   "metadata": {
    "ExecuteTime": {
     "end_time": "2024-10-08T18:38:25.168995Z",
     "start_time": "2024-10-08T18:38:25.163922Z"
    }
   },
   "cell_type": "code",
   "source": [
    "l1 = [23, 45, 67]\n",
    "a3 = torch.tensor(l1)"
   ],
   "id": "b600b04a5cb0a82",
   "outputs": [],
   "execution_count": 25
  },
  {
   "metadata": {
    "ExecuteTime": {
     "end_time": "2024-10-08T18:38:42.101790Z",
     "start_time": "2024-10-08T18:38:42.098496Z"
    }
   },
   "cell_type": "code",
   "source": "a3.shape",
   "id": "65d4bae78630ffa1",
   "outputs": [
    {
     "data": {
      "text/plain": [
       "torch.Size([3])"
      ]
     },
     "execution_count": 27,
     "metadata": {},
     "output_type": "execute_result"
    }
   ],
   "execution_count": 27
  },
  {
   "metadata": {
    "ExecuteTime": {
     "end_time": "2024-10-08T18:42:51.398512Z",
     "start_time": "2024-10-08T18:42:51.394066Z"
    }
   },
   "cell_type": "code",
   "source": [
    "l2= [1, 3.9, 5]\n",
    "a4 = torch.tensor(l2, dtype=torch.int)\n",
    "a4.shape"
   ],
   "id": "c6daf803d3ffdff8",
   "outputs": [
    {
     "data": {
      "text/plain": [
       "torch.Size([3])"
      ]
     },
     "execution_count": 35,
     "metadata": {},
     "output_type": "execute_result"
    }
   ],
   "execution_count": 35
  },
  {
   "metadata": {
    "ExecuteTime": {
     "end_time": "2024-10-08T18:42:52.107345Z",
     "start_time": "2024-10-08T18:42:52.103501Z"
    }
   },
   "cell_type": "code",
   "source": "a4.dtype",
   "id": "978539841143be34",
   "outputs": [
    {
     "data": {
      "text/plain": [
       "torch.int32"
      ]
     },
     "execution_count": 36,
     "metadata": {},
     "output_type": "execute_result"
    }
   ],
   "execution_count": 36
  },
  {
   "metadata": {
    "ExecuteTime": {
     "end_time": "2024-10-08T18:42:52.575016Z",
     "start_time": "2024-10-08T18:42:52.572514Z"
    }
   },
   "cell_type": "code",
   "source": "a4",
   "id": "9e7ea490c55f9025",
   "outputs": [
    {
     "data": {
      "text/plain": [
       "tensor([1, 3, 5], dtype=torch.int32)"
      ]
     },
     "execution_count": 37,
     "metadata": {},
     "output_type": "execute_result"
    }
   ],
   "execution_count": 37
  },
  {
   "metadata": {
    "ExecuteTime": {
     "end_time": "2024-10-08T18:45:48.844866Z",
     "start_time": "2024-10-08T18:45:48.842191Z"
    }
   },
   "cell_type": "code",
   "source": [
    "L = [1, 2, 3, 4, 5]\n",
    "a5 = torch.tensor(L, requires_grad=True, dtype=torch.float32)"
   ],
   "id": "22686af80842eaa1",
   "outputs": [],
   "execution_count": 39
  },
  {
   "metadata": {
    "ExecuteTime": {
     "end_time": "2024-10-08T18:45:53.932432Z",
     "start_time": "2024-10-08T18:45:53.928440Z"
    }
   },
   "cell_type": "code",
   "source": "a5",
   "id": "92e2552477bc870e",
   "outputs": [
    {
     "data": {
      "text/plain": [
       "tensor([1., 2., 3., 4., 5.], requires_grad=True)"
      ]
     },
     "execution_count": 40,
     "metadata": {},
     "output_type": "execute_result"
    }
   ],
   "execution_count": 40
  },
  {
   "metadata": {
    "ExecuteTime": {
     "end_time": "2024-10-08T18:52:48.734709Z",
     "start_time": "2024-10-08T18:52:48.729225Z"
    }
   },
   "cell_type": "code",
   "source": [
    "a1 = torch.ones(3)\n",
    "a2 = torch.zeros(3)\n",
    "\n",
    "b= a1 + a2 \n",
    "c = 2 * a1"
   ],
   "id": "6a315f4cfbe5fb4a",
   "outputs": [],
   "execution_count": 41
  },
  {
   "metadata": {
    "ExecuteTime": {
     "end_time": "2024-10-08T18:53:37.113041Z",
     "start_time": "2024-10-08T18:53:37.109917Z"
    }
   },
   "cell_type": "code",
   "source": [
    "print(a1)\n",
    "print(a2)\n",
    "print(b)\n",
    "print(c)"
   ],
   "id": "81ebf3e98235251d",
   "outputs": [
    {
     "name": "stdout",
     "output_type": "stream",
     "text": [
      "tensor([1., 1., 1.])\n",
      "tensor([0., 0., 0.])\n",
      "tensor([1., 1., 1.])\n",
      "tensor([2., 2., 2.])\n"
     ]
    }
   ],
   "execution_count": 43
  },
  {
   "metadata": {
    "ExecuteTime": {
     "end_time": "2024-10-08T18:58:56.045246Z",
     "start_time": "2024-10-08T18:58:56.038063Z"
    }
   },
   "cell_type": "code",
   "source": [
    "c.add_(a1)\n",
    "print(c)"
   ],
   "id": "855ae4d3cd703046",
   "outputs": [
    {
     "name": "stdout",
     "output_type": "stream",
     "text": [
      "tensor([3., 3., 3.])\n"
     ]
    }
   ],
   "execution_count": 44
  },
  {
   "metadata": {
    "ExecuteTime": {
     "end_time": "2024-10-08T19:00:20.590772Z",
     "start_time": "2024-10-08T19:00:20.585755Z"
    }
   },
   "cell_type": "code",
   "source": [
    "a3 = torch.rand(5, 5)\n",
    "print(a3)"
   ],
   "id": "27cffa30b45c8fa1",
   "outputs": [
    {
     "name": "stdout",
     "output_type": "stream",
     "text": [
      "tensor([[0.6139, 0.7828, 0.9920, 0.2115, 0.1632],\n",
      "        [0.8765, 0.9276, 0.3225, 0.7463, 0.6707],\n",
      "        [0.2085, 0.4434, 0.5575, 0.9098, 0.5997],\n",
      "        [0.7493, 0.9207, 0.9347, 0.5103, 0.0998],\n",
      "        [0.5526, 0.2306, 0.1641, 0.2216, 0.7709]])\n"
     ]
    }
   ],
   "execution_count": 45
  },
  {
   "metadata": {
    "ExecuteTime": {
     "end_time": "2024-10-08T19:01:54.577055Z",
     "start_time": "2024-10-08T19:01:54.570459Z"
    }
   },
   "cell_type": "code",
   "source": "a3[:, 0]",
   "id": "4c309f5a6b463b7b",
   "outputs": [
    {
     "data": {
      "text/plain": [
       "tensor([0.6139, 0.8765, 0.2085, 0.7493, 0.5526])"
      ]
     },
     "execution_count": 46,
     "metadata": {},
     "output_type": "execute_result"
    }
   ],
   "execution_count": 46
  },
  {
   "metadata": {
    "ExecuteTime": {
     "end_time": "2024-10-08T19:06:54.333821Z",
     "start_time": "2024-10-08T19:06:54.325946Z"
    }
   },
   "cell_type": "code",
   "source": [
    "A =torch.rand(5)\n",
    "print(A)\n",
    "\n",
    "B= A.numpy()\n",
    "print(B)\n",
    "print(type(B))"
   ],
   "id": "a9da2073c0f543df",
   "outputs": [
    {
     "name": "stdout",
     "output_type": "stream",
     "text": [
      "tensor([0.1421, 0.0403, 0.4708, 0.4063, 0.2667])\n",
      "[0.14212424 0.04033643 0.47081155 0.40625846 0.26673263]\n",
      "<class 'numpy.ndarray'>\n"
     ]
    }
   ],
   "execution_count": 47
  },
  {
   "metadata": {
    "ExecuteTime": {
     "end_time": "2024-10-08T19:08:25.480855Z",
     "start_time": "2024-10-08T19:08:25.478680Z"
    }
   },
   "cell_type": "code",
   "source": [
    "B[0] = 9\n",
    "print(A)"
   ],
   "id": "fb0456fc3f6ed8a3",
   "outputs": [
    {
     "name": "stdout",
     "output_type": "stream",
     "text": [
      "tensor([9.0000, 0.0403, 0.4708, 0.4063, 0.2667])\n"
     ]
    }
   ],
   "execution_count": 50
  },
  {
   "metadata": {
    "ExecuteTime": {
     "end_time": "2024-10-08T19:09:16.674731Z",
     "start_time": "2024-10-08T19:09:16.671829Z"
    }
   },
   "cell_type": "code",
   "source": [
    "import numpy as np\n",
    "A = np.ones(5)\n",
    "B = torch.from_numpy(A)\n",
    "print(A)\n",
    "print(B)\n",
    "print(type(B))"
   ],
   "id": "9740230ee3004e2e",
   "outputs": [
    {
     "name": "stdout",
     "output_type": "stream",
     "text": [
      "[1. 1. 1. 1. 1.]\n",
      "tensor([1., 1., 1., 1., 1.], dtype=torch.float64)\n",
      "<class 'torch.Tensor'>\n"
     ]
    }
   ],
   "execution_count": 52
  },
  {
   "metadata": {},
   "cell_type": "code",
   "outputs": [],
   "execution_count": null,
   "source": "",
   "id": "4378428d598b7fb3"
  }
 ],
 "metadata": {
  "kernelspec": {
   "display_name": "Python 3",
   "language": "python",
   "name": "python3"
  },
  "language_info": {
   "codemirror_mode": {
    "name": "ipython",
    "version": 2
   },
   "file_extension": ".py",
   "mimetype": "text/x-python",
   "name": "python",
   "nbconvert_exporter": "python",
   "pygments_lexer": "ipython2",
   "version": "2.7.6"
  }
 },
 "nbformat": 4,
 "nbformat_minor": 5
}
